{
 "cells": [
  {
   "cell_type": "code",
   "execution_count": 1735,
   "metadata": {},
   "outputs": [],
   "source": [
    "from dash import Dash , html, dcc\n",
    "import jupyter_dash\n",
    "import plotly.express as px\n",
    "import pandas as pd\n",
    "from dash.dependencies import Input , Output , State\n",
    "import dash_bootstrap_components as dbc\n",
    "from dash import html"
   ]
  },
  {
   "cell_type": "code",
   "execution_count": 1736,
   "metadata": {},
   "outputs": [],
   "source": [
    "import numpy as np\n",
    "import pandas as pd\n",
    "import geopandas as gpd\n",
    "from urllib.request import urlopen\n",
    "import json\n",
    "import plotly.express as px"
   ]
  },
  {
   "cell_type": "code",
   "execution_count": 1737,
   "metadata": {},
   "outputs": [],
   "source": [
    "ukr_df = pd.read_csv('Ukraine_war1.csv')\n",
    "ukr_df = ukr_df.head(54)\n",
    "with open('stanford-gg870xt4706-geojson.json') as f:\n",
    "    ukr_json = json.load(f)\n",
    "\n",
    "    ukr1_df = pd.read_csv('ukr1_df.csv')\n",
    "ukr1_df.drop('NL_NAME_1', axis = 1,inplace = True)\n",
    "ukr1_df.dropna(axis = 0, inplace = True)\n",
    "\n",
    "ukr1_df['Condition'] = np.where(\n",
    "    ukr1_df['control'] == 1 ,'Russian military control' , np.where(\n",
    "    ukr1_df['control'] == 2 ,'Ukrainian counter-attack','ukraine Liberated'))"
   ]
  },
  {
   "cell_type": "code",
   "execution_count": 1738,
   "metadata": {},
   "outputs": [
    {
     "data": {
      "text/html": [
       "<div>\n",
       "<style scoped>\n",
       "    .dataframe tbody tr th:only-of-type {\n",
       "        vertical-align: middle;\n",
       "    }\n",
       "\n",
       "    .dataframe tbody tr th {\n",
       "        vertical-align: top;\n",
       "    }\n",
       "\n",
       "    .dataframe thead th {\n",
       "        text-align: right;\n",
       "    }\n",
       "</style>\n",
       "<table border=\"1\" class=\"dataframe\">\n",
       "  <thead>\n",
       "    <tr style=\"text-align: right;\">\n",
       "      <th></th>\n",
       "      <th>Unnamed: 0</th>\n",
       "      <th>Date</th>\n",
       "      <th>Headline CPI</th>\n",
       "      <th>Core CPI</th>\n",
       "      <th>Unnamed: 4</th>\n",
       "      <th>Headline CPI.1</th>\n",
       "      <th>Core CPI.1</th>\n",
       "      <th>Unnamed: 7</th>\n",
       "      <th>Regulated Items</th>\n",
       "      <th>Fruits and vegatables</th>\n",
       "      <th>Unnamed: 10</th>\n",
       "      <th>Regulated Items.1</th>\n",
       "      <th>Fruits and vegatables.1</th>\n",
       "    </tr>\n",
       "  </thead>\n",
       "  <tbody>\n",
       "    <tr>\n",
       "      <th>0</th>\n",
       "      <td>?????? 2019</td>\n",
       "      <td>19-Oct</td>\n",
       "      <td>0.996</td>\n",
       "      <td>1.103</td>\n",
       "      <td>NaN</td>\n",
       "      <td>3.146</td>\n",
       "      <td>2.723</td>\n",
       "      <td>NaN</td>\n",
       "      <td>1.998</td>\n",
       "      <td>-4.442</td>\n",
       "      <td>NaN</td>\n",
       "      <td>12.460</td>\n",
       "      <td>-13.355</td>\n",
       "    </tr>\n",
       "    <tr>\n",
       "      <th>1</th>\n",
       "      <td>?????? 2019</td>\n",
       "      <td>19-Nov</td>\n",
       "      <td>-0.301</td>\n",
       "      <td>-0.135</td>\n",
       "      <td>NaN</td>\n",
       "      <td>3.628</td>\n",
       "      <td>2.114</td>\n",
       "      <td>NaN</td>\n",
       "      <td>0.092</td>\n",
       "      <td>-4.253</td>\n",
       "      <td>NaN</td>\n",
       "      <td>12.529</td>\n",
       "      <td>-11.933</td>\n",
       "    </tr>\n",
       "    <tr>\n",
       "      <th>2</th>\n",
       "      <td>??????? 2019</td>\n",
       "      <td>19-Dec</td>\n",
       "      <td>-0.153</td>\n",
       "      <td>0.217</td>\n",
       "      <td>NaN</td>\n",
       "      <td>7.100</td>\n",
       "      <td>2.374</td>\n",
       "      <td>NaN</td>\n",
       "      <td>-1.459</td>\n",
       "      <td>0.533</td>\n",
       "      <td>NaN</td>\n",
       "      <td>10.766</td>\n",
       "      <td>9.967</td>\n",
       "    </tr>\n",
       "    <tr>\n",
       "      <th>3</th>\n",
       "      <td>????? 2020</td>\n",
       "      <td>20-Jan</td>\n",
       "      <td>0.666</td>\n",
       "      <td>0.693</td>\n",
       "      <td>NaN</td>\n",
       "      <td>7.168</td>\n",
       "      <td>2.663</td>\n",
       "      <td>NaN</td>\n",
       "      <td>0.170</td>\n",
       "      <td>2.497</td>\n",
       "      <td>NaN</td>\n",
       "      <td>10.889</td>\n",
       "      <td>10.272</td>\n",
       "    </tr>\n",
       "    <tr>\n",
       "      <th>4</th>\n",
       "      <td>?????? 2020</td>\n",
       "      <td>20-Feb</td>\n",
       "      <td>-0.012</td>\n",
       "      <td>0.246</td>\n",
       "      <td>NaN</td>\n",
       "      <td>5.319</td>\n",
       "      <td>1.916</td>\n",
       "      <td>NaN</td>\n",
       "      <td>0.001</td>\n",
       "      <td>-3.652</td>\n",
       "      <td>NaN</td>\n",
       "      <td>10.871</td>\n",
       "      <td>-1.083</td>\n",
       "    </tr>\n",
       "  </tbody>\n",
       "</table>\n",
       "</div>"
      ],
      "text/plain": [
       "     Unnamed: 0    Date  Headline CPI  Core CPI  Unnamed: 4  Headline CPI.1  \\\n",
       "0   ?????? 2019  19-Oct         0.996     1.103         NaN           3.146   \n",
       "1   ?????? 2019  19-Nov        -0.301    -0.135         NaN           3.628   \n",
       "2  ??????? 2019  19-Dec        -0.153     0.217         NaN           7.100   \n",
       "3    ????? 2020  20-Jan         0.666     0.693         NaN           7.168   \n",
       "4   ?????? 2020  20-Feb        -0.012     0.246         NaN           5.319   \n",
       "\n",
       "   Core CPI.1  Unnamed: 7  Regulated Items  Fruits and vegatables  \\\n",
       "0       2.723         NaN            1.998                 -4.442   \n",
       "1       2.114         NaN            0.092                 -4.253   \n",
       "2       2.374         NaN           -1.459                  0.533   \n",
       "3       2.663         NaN            0.170                  2.497   \n",
       "4       1.916         NaN            0.001                 -3.652   \n",
       "\n",
       "   Unnamed: 10  Regulated Items.1  Fruits and vegatables.1  \n",
       "0          NaN             12.460                  -13.355  \n",
       "1          NaN             12.529                  -11.933  \n",
       "2          NaN             10.766                    9.967  \n",
       "3          NaN             10.889                   10.272  \n",
       "4          NaN             10.871                   -1.083  "
      ]
     },
     "execution_count": 1738,
     "metadata": {},
     "output_type": "execute_result"
    }
   ],
   "source": [
    "Inflation_Data = pd.read_csv(\"Inflation.csv\")\n",
    "Inflation_Data.head()"
   ]
  },
  {
   "cell_type": "code",
   "execution_count": 1739,
   "metadata": {},
   "outputs": [
    {
     "data": {
      "text/html": [
       "<div>\n",
       "<style scoped>\n",
       "    .dataframe tbody tr th:only-of-type {\n",
       "        vertical-align: middle;\n",
       "    }\n",
       "\n",
       "    .dataframe tbody tr th {\n",
       "        vertical-align: top;\n",
       "    }\n",
       "\n",
       "    .dataframe thead th {\n",
       "        text-align: right;\n",
       "    }\n",
       "</style>\n",
       "<table border=\"1\" class=\"dataframe\">\n",
       "  <thead>\n",
       "    <tr style=\"text-align: right;\">\n",
       "      <th></th>\n",
       "      <th>Date</th>\n",
       "      <th>Headline CPI</th>\n",
       "      <th>Core CPI</th>\n",
       "      <th>Headline CPI.1</th>\n",
       "      <th>Core CPI.1</th>\n",
       "      <th>Regulated Items</th>\n",
       "      <th>Fruits and vegatables</th>\n",
       "      <th>Regulated Items.1</th>\n",
       "      <th>Fruits and vegatables.1</th>\n",
       "    </tr>\n",
       "  </thead>\n",
       "  <tbody>\n",
       "    <tr>\n",
       "      <th>15</th>\n",
       "      <td>21-Jan</td>\n",
       "      <td>-0.426</td>\n",
       "      <td>0.532</td>\n",
       "      <td>4.285</td>\n",
       "      <td>3.637</td>\n",
       "      <td>0.022</td>\n",
       "      <td>-15.080</td>\n",
       "      <td>9.297</td>\n",
       "      <td>-8.518</td>\n",
       "    </tr>\n",
       "    <tr>\n",
       "      <th>16</th>\n",
       "      <td>21-Feb</td>\n",
       "      <td>0.151</td>\n",
       "      <td>0.254</td>\n",
       "      <td>4.455</td>\n",
       "      <td>3.645</td>\n",
       "      <td>0.396</td>\n",
       "      <td>-2.734</td>\n",
       "      <td>9.729</td>\n",
       "      <td>-7.647</td>\n",
       "    </tr>\n",
       "    <tr>\n",
       "      <th>17</th>\n",
       "      <td>21-Mar</td>\n",
       "      <td>0.630</td>\n",
       "      <td>0.451</td>\n",
       "      <td>4.476</td>\n",
       "      <td>3.672</td>\n",
       "      <td>0.018</td>\n",
       "      <td>6.797</td>\n",
       "      <td>8.337</td>\n",
       "      <td>-1.516</td>\n",
       "    </tr>\n",
       "    <tr>\n",
       "      <th>18</th>\n",
       "      <td>21-Apr</td>\n",
       "      <td>0.888</td>\n",
       "      <td>0.675</td>\n",
       "      <td>4.101</td>\n",
       "      <td>3.331</td>\n",
       "      <td>0.417</td>\n",
       "      <td>6.482</td>\n",
       "      <td>8.854</td>\n",
       "      <td>-5.320</td>\n",
       "    </tr>\n",
       "    <tr>\n",
       "      <th>19</th>\n",
       "      <td>21-May</td>\n",
       "      <td>0.685</td>\n",
       "      <td>0.334</td>\n",
       "      <td>4.829</td>\n",
       "      <td>3.413</td>\n",
       "      <td>0.129</td>\n",
       "      <td>8.371</td>\n",
       "      <td>8.880</td>\n",
       "      <td>6.931</td>\n",
       "    </tr>\n",
       "  </tbody>\n",
       "</table>\n",
       "</div>"
      ],
      "text/plain": [
       "      Date  Headline CPI  Core CPI  Headline CPI.1  Core CPI.1  \\\n",
       "15  21-Jan        -0.426     0.532           4.285       3.637   \n",
       "16  21-Feb         0.151     0.254           4.455       3.645   \n",
       "17  21-Mar         0.630     0.451           4.476       3.672   \n",
       "18  21-Apr         0.888     0.675           4.101       3.331   \n",
       "19  21-May         0.685     0.334           4.829       3.413   \n",
       "\n",
       "    Regulated Items  Fruits and vegatables  Regulated Items.1  \\\n",
       "15            0.022                -15.080              9.297   \n",
       "16            0.396                 -2.734              9.729   \n",
       "17            0.018                  6.797              8.337   \n",
       "18            0.417                  6.482              8.854   \n",
       "19            0.129                  8.371              8.880   \n",
       "\n",
       "    Fruits and vegatables.1  \n",
       "15                   -8.518  \n",
       "16                   -7.647  \n",
       "17                   -1.516  \n",
       "18                   -5.320  \n",
       "19                    6.931  "
      ]
     },
     "execution_count": 1739,
     "metadata": {},
     "output_type": "execute_result"
    }
   ],
   "source": [
    "# UR_Data = UR_Data.drop('Unnamed: 0' , axis =1)\n",
    "# UR_Data = UR_Data.dropna(axis = 1)\n",
    "Inflation_Data = Inflation_Data.drop(Inflation_Data.filter(regex='Unnamed').columns, axis=1)\n",
    "Inflation_Data = Inflation_Data.drop(Inflation_Data.index[0:15] , axis = 0)\n",
    "Inflation_Data.head()"
   ]
  },
  {
   "cell_type": "code",
   "execution_count": 1740,
   "metadata": {},
   "outputs": [
    {
     "data": {
      "text/html": [
       "<div>\n",
       "<style scoped>\n",
       "    .dataframe tbody tr th:only-of-type {\n",
       "        vertical-align: middle;\n",
       "    }\n",
       "\n",
       "    .dataframe tbody tr th {\n",
       "        vertical-align: top;\n",
       "    }\n",
       "\n",
       "    .dataframe thead th {\n",
       "        text-align: right;\n",
       "    }\n",
       "</style>\n",
       "<table border=\"1\" class=\"dataframe\">\n",
       "  <thead>\n",
       "    <tr style=\"text-align: right;\">\n",
       "      <th></th>\n",
       "      <th>Date</th>\n",
       "      <th>Russia_Total</th>\n",
       "      <th>Ukraine_Total</th>\n",
       "      <th>Unnamed: 3</th>\n",
       "      <th>Russia_Destroyed</th>\n",
       "      <th>Ukraine_Destroyed</th>\n",
       "      <th>Unnamed: 6</th>\n",
       "      <th>Russia_Damaged</th>\n",
       "      <th>Ukraine_Damaged</th>\n",
       "      <th>Unnamed: 9</th>\n",
       "      <th>...</th>\n",
       "      <th>Russia_Logistics</th>\n",
       "      <th>Ukraine_Logistics</th>\n",
       "      <th>Unnamed: 52</th>\n",
       "      <th>Russia_Armor</th>\n",
       "      <th>Ukraine_Armor</th>\n",
       "      <th>Unnamed: 55</th>\n",
       "      <th>Russia_Antiair</th>\n",
       "      <th>Ukraine_Antiair</th>\n",
       "      <th>Unnamed: 58</th>\n",
       "      <th>UNHCR Ukraine Refugees</th>\n",
       "    </tr>\n",
       "  </thead>\n",
       "  <tbody>\n",
       "    <tr>\n",
       "      <th>0</th>\n",
       "      <td>2022-02-24</td>\n",
       "      <td>0</td>\n",
       "      <td>0</td>\n",
       "      <td>NaN</td>\n",
       "      <td>0</td>\n",
       "      <td>0</td>\n",
       "      <td>NaN</td>\n",
       "      <td>0</td>\n",
       "      <td>0</td>\n",
       "      <td>NaN</td>\n",
       "      <td>...</td>\n",
       "      <td>3</td>\n",
       "      <td>0</td>\n",
       "      <td>NaN</td>\n",
       "      <td>6</td>\n",
       "      <td>3</td>\n",
       "      <td>NaN</td>\n",
       "      <td>1</td>\n",
       "      <td>5</td>\n",
       "      <td>NaN</td>\n",
       "      <td>84681.0</td>\n",
       "    </tr>\n",
       "    <tr>\n",
       "      <th>1</th>\n",
       "      <td>2022-02-25</td>\n",
       "      <td>52</td>\n",
       "      <td>59</td>\n",
       "      <td>NaN</td>\n",
       "      <td>25</td>\n",
       "      <td>27</td>\n",
       "      <td>NaN</td>\n",
       "      <td>5</td>\n",
       "      <td>5</td>\n",
       "      <td>NaN</td>\n",
       "      <td>...</td>\n",
       "      <td>3</td>\n",
       "      <td>0</td>\n",
       "      <td>NaN</td>\n",
       "      <td>9</td>\n",
       "      <td>5</td>\n",
       "      <td>NaN</td>\n",
       "      <td>2</td>\n",
       "      <td>5</td>\n",
       "      <td>NaN</td>\n",
       "      <td>192982.0</td>\n",
       "    </tr>\n",
       "    <tr>\n",
       "      <th>2</th>\n",
       "      <td>2022-02-26</td>\n",
       "      <td>107</td>\n",
       "      <td>88</td>\n",
       "      <td>NaN</td>\n",
       "      <td>42</td>\n",
       "      <td>36</td>\n",
       "      <td>NaN</td>\n",
       "      <td>6</td>\n",
       "      <td>4</td>\n",
       "      <td>NaN</td>\n",
       "      <td>...</td>\n",
       "      <td>14</td>\n",
       "      <td>0</td>\n",
       "      <td>NaN</td>\n",
       "      <td>14</td>\n",
       "      <td>14</td>\n",
       "      <td>NaN</td>\n",
       "      <td>3</td>\n",
       "      <td>5</td>\n",
       "      <td>NaN</td>\n",
       "      <td>341301.0</td>\n",
       "    </tr>\n",
       "    <tr>\n",
       "      <th>3</th>\n",
       "      <td>2022-02-27</td>\n",
       "      <td>161</td>\n",
       "      <td>96</td>\n",
       "      <td>NaN</td>\n",
       "      <td>71</td>\n",
       "      <td>38</td>\n",
       "      <td>NaN</td>\n",
       "      <td>6</td>\n",
       "      <td>4</td>\n",
       "      <td>NaN</td>\n",
       "      <td>...</td>\n",
       "      <td>14</td>\n",
       "      <td>0</td>\n",
       "      <td>NaN</td>\n",
       "      <td>20</td>\n",
       "      <td>17</td>\n",
       "      <td>NaN</td>\n",
       "      <td>4</td>\n",
       "      <td>5</td>\n",
       "      <td>NaN</td>\n",
       "      <td>509665.0</td>\n",
       "    </tr>\n",
       "    <tr>\n",
       "      <th>4</th>\n",
       "      <td>2022-02-28</td>\n",
       "      <td>321</td>\n",
       "      <td>147</td>\n",
       "      <td>NaN</td>\n",
       "      <td>139</td>\n",
       "      <td>53</td>\n",
       "      <td>NaN</td>\n",
       "      <td>7</td>\n",
       "      <td>4</td>\n",
       "      <td>NaN</td>\n",
       "      <td>...</td>\n",
       "      <td>18</td>\n",
       "      <td>0</td>\n",
       "      <td>NaN</td>\n",
       "      <td>72</td>\n",
       "      <td>27</td>\n",
       "      <td>NaN</td>\n",
       "      <td>15</td>\n",
       "      <td>5</td>\n",
       "      <td>NaN</td>\n",
       "      <td>672139.0</td>\n",
       "    </tr>\n",
       "  </tbody>\n",
       "</table>\n",
       "<p>5 rows × 60 columns</p>\n",
       "</div>"
      ],
      "text/plain": [
       "         Date  Russia_Total  Ukraine_Total  Unnamed: 3  Russia_Destroyed  \\\n",
       "0  2022-02-24             0              0         NaN                 0   \n",
       "1  2022-02-25            52             59         NaN                25   \n",
       "2  2022-02-26           107             88         NaN                42   \n",
       "3  2022-02-27           161             96         NaN                71   \n",
       "4  2022-02-28           321            147         NaN               139   \n",
       "\n",
       "   Ukraine_Destroyed  Unnamed: 6  Russia_Damaged  Ukraine_Damaged  Unnamed: 9  \\\n",
       "0                  0         NaN               0                0         NaN   \n",
       "1                 27         NaN               5                5         NaN   \n",
       "2                 36         NaN               6                4         NaN   \n",
       "3                 38         NaN               6                4         NaN   \n",
       "4                 53         NaN               7                4         NaN   \n",
       "\n",
       "   ...  Russia_Logistics  Ukraine_Logistics  Unnamed: 52  Russia_Armor  \\\n",
       "0  ...                 3                  0          NaN             6   \n",
       "1  ...                 3                  0          NaN             9   \n",
       "2  ...                14                  0          NaN            14   \n",
       "3  ...                14                  0          NaN            20   \n",
       "4  ...                18                  0          NaN            72   \n",
       "\n",
       "   Ukraine_Armor  Unnamed: 55  Russia_Antiair  Ukraine_Antiair  Unnamed: 58  \\\n",
       "0              3          NaN               1                5          NaN   \n",
       "1              5          NaN               2                5          NaN   \n",
       "2             14          NaN               3                5          NaN   \n",
       "3             17          NaN               4                5          NaN   \n",
       "4             27          NaN              15                5          NaN   \n",
       "\n",
       "   UNHCR Ukraine Refugees  \n",
       "0                 84681.0  \n",
       "1                192982.0  \n",
       "2                341301.0  \n",
       "3                509665.0  \n",
       "4                672139.0  \n",
       "\n",
       "[5 rows x 60 columns]"
      ]
     },
     "execution_count": 1740,
     "metadata": {},
     "output_type": "execute_result"
    }
   ],
   "source": [
    "UR_Data = pd.read_csv(\"Russia-Ukraine Equipment Losses - Origional.csv\")\n",
    "UR_Data.head()"
   ]
  },
  {
   "cell_type": "code",
   "execution_count": 1741,
   "metadata": {},
   "outputs": [],
   "source": [
    "UR_Data['UNHCR Ukraine Refugees'] = UR_Data['UNHCR Ukraine Refugees'].fillna(UR_Data[\"UNHCR Ukraine Refugees\"].mean())\n",
    "# UR_Data = UR_Data.dropna(axis = 1)\n",
    "UR_Data = UR_Data.drop(UR_Data.filter(regex='Unnamed').columns, axis=1)"
   ]
  },
  {
   "cell_type": "code",
   "execution_count": 1742,
   "metadata": {},
   "outputs": [],
   "source": [
    "FONT_AWESOME = \"https://use.fontawesome.com/releases/v5.10.2/css/all.css\""
   ]
  },
  {
   "cell_type": "code",
   "execution_count": 1743,
   "metadata": {},
   "outputs": [],
   "source": [
    "app = Dash(external_stylesheets=[dbc.themes.BOOTSTRAP , FONT_AWESOME])"
   ]
  },
  {
   "cell_type": "code",
   "execution_count": 1744,
   "metadata": {},
   "outputs": [],
   "source": [
    "# graphs = html.Div(\n",
    "#     [\n",
    "#         dbc.Row(\n",
    "#             [\n",
    "#                 dbc.Col(dcc.Graph(id = \"UR_Graph\"), lg=6),\n",
    "#                 dbc.Col(dcc.Graph(id = \"UR_Graph11\"), lg=6),\n",
    "                \n",
    "#             ],\n",
    "#             className=\"mt-4\",\n",
    "#         ),\n",
    "        \n",
    "#     ]\n",
    "# )\n",
    "\n",
    "# app.layout = dbc.Container([graphs], fluid=True)"
   ]
  },
  {
   "cell_type": "code",
   "execution_count": 1745,
   "metadata": {},
   "outputs": [],
   "source": [
    "card_content = [\n",
    "    dbc.CardHeader(\"Card header\"),\n",
    "    dbc.CardBody(\n",
    "        [\n",
    "            html.H5(\"Card title\", className=\"card-title\"),\n",
    "            html.P(\n",
    "                \"This is some card content that we'll reuse\",\n",
    "                className=\"card-text\",\n",
    "            ),\n",
    "        ]\n",
    "    ),\n",
    "]"
   ]
  },
  {
   "cell_type": "code",
   "execution_count": 1746,
   "metadata": {
    "scrolled": true
   },
   "outputs": [],
   "source": [
    "# fig_map = px.choropleth_mapbox(ukr1_df, geojson=ukr_json,\n",
    "#                            color=\"Condition\",\n",
    "#                            color_discrete_map={'Ukrainian counter-attack': \"#FFD500\" ,      #e6d385',\n",
    "#                                                'ukraine Liberated': \"#005BBB\"        ,      #5c7658',\n",
    "#                                                'Russian military control':'#681313'\n",
    "#                                               },\n",
    "#                            opacity = 1,\n",
    "#                            locations=\"Region\", \n",
    "#                            featureidkey=\"properties.name_1\",\n",
    "#                            center={\"lat\": 48.3794, \"lon\": 31.1656},  #49.4444° N, 32.0598° ukraine E 48.3794° N, 31.1656° E\n",
    "#                            mapbox_style= \"carto-positron\",#\"carto-darkmatter\",     #carto-positron\",\n",
    "#                            zoom=4.25,\n",
    "#                            hover_name=\"Region\", # column to add to hover information\n",
    "#                            color_continuous_scale=px.colors.sequential.Plasma,\n",
    "#                            animation_frame='date'\n",
    "#                           )\n",
    "\n",
    "# fig_map.layout.updatemenus[0].buttons[0].args[1][\"frame\"][\"duration\"] = 2000\n",
    "# fig_map.update_layout(\n",
    "#     autosize=False,\n",
    "#     width=1300,\n",
    "#     height=500,\n",
    "#     margin={\"r\":0,\"t\":0,\"l\":0,\"b\":0},\n",
    "#     legend=dict(\n",
    "#         x=0,\n",
    "#         y=1,\n",
    "#         traceorder=\"normal\",\n",
    "#         font=dict(\n",
    "#             family=\"sans-serif\",\n",
    "#             size=12,\n",
    "#             color=\"black\"\n",
    "#         ),\n",
    "#     )\n",
    "# )\n",
    "\n",
    "\n",
    "\n",
    "# fig_map.update_layout(paper_bgcolor= color_global)\n"
   ]
  },
  {
   "cell_type": "code",
   "execution_count": 1747,
   "metadata": {},
   "outputs": [],
   "source": [
    "# inflation_fig =  html.Div(children=[\n",
    "  \n",
    "#         dcc.Dropdown(Inflation_Data.columns, 'Headline CPI', id='Select_Y_axis1' ),\n",
    "#         dcc.Graph(id = \"Inflation_Data\" , style = {'backgroundColor':'#e9ecef' }\n",
    "                 \n",
    "#                  ,figure={\n",
    "            \n",
    "#             'layout': {\n",
    "#                 'plot_bgcolor': '#e9ecef',\n",
    "#                 'paper_bgcolor': '#e9ecef',\n",
    "#                 'font': {\n",
    "#                     'color':'#e9ecef'\n",
    "#                 }\n",
    "#             }\n",
    "#         }\n",
    "                 \n",
    "                 \n",
    "#                  ),  \n",
    "        \n",
    "#     ] ,)\n"
   ]
  },
  {
   "cell_type": "code",
   "execution_count": 1748,
   "metadata": {},
   "outputs": [],
   "source": [
    "fourth_graph =dcc.Graph(\n",
    "        id=\"Random_graph2\",\n",
    "#         figure={\n",
    "#             'layout': {\n",
    "#                 'plot_bgcolor': colors['background'],\n",
    "#                 'paper_bgcolor': colors['background'],\n",
    "#                 'font': {\n",
    "#                     'color': colors['text']\n",
    "#                 }\n",
    "#             }\n",
    "#         }\n",
    "    )"
   ]
  },
  {
   "cell_type": "code",
   "execution_count": 1749,
   "metadata": {},
   "outputs": [
    {
     "data": {
      "application/vnd.plotly.v1+json": {
       "config": {
        "plotlyServerURL": "https://plot.ly"
       },
       "data": [
        {
         "hovertemplate": "variable=Ukraine_Total<br>Date=%{x}<br>value=%{y}<extra></extra>",
         "legendgroup": "Ukraine_Total",
         "line": {
          "color": "#FFD500",
          "dash": "solid"
         },
         "marker": {
          "symbol": "circle"
         },
         "mode": "lines",
         "name": "Ukraine_Total",
         "orientation": "v",
         "showlegend": true,
         "type": "scatter",
         "x": [
          "2022-02-24",
          "2022-02-25",
          "2022-02-26",
          "2022-02-27",
          "2022-02-28",
          "2022-03-01",
          "2022-03-02",
          "2022-03-03",
          "2022-03-04",
          "2022-03-05",
          "2022-03-06",
          "2022-03-07",
          "2022-03-08",
          "2022-03-09",
          "2022-03-10",
          "2022-03-11",
          "2022-03-12",
          "2022-03-13",
          "2022-03-14",
          "2022-03-15",
          "2022-03-16",
          "2022-03-17",
          "2022-03-18",
          "2022-03-19",
          "2022-03-20",
          "2022-03-21",
          "2022-03-22",
          "2022-03-23",
          "2022-03-24",
          "2022-03-25",
          "2022-03-26",
          "2022-03-27",
          "2022-03-28",
          "2022-03-29",
          "2022-03-30",
          "2022-03-31",
          "2022-04-01",
          "2022-04-02",
          "2022-04-03",
          "2022-04-04",
          "2022-04-05",
          "2022-04-06"
         ],
         "xaxis": "x",
         "y": [
          0,
          59,
          88,
          96,
          147,
          151,
          166,
          180,
          201,
          229,
          245,
          249,
          271,
          274,
          277,
          303,
          318,
          323,
          335,
          356,
          361,
          371,
          386,
          388,
          397,
          500,
          501,
          515,
          534,
          540,
          557,
          574,
          574,
          578,
          624,
          656,
          659,
          660,
          674,
          680,
          684,
          686
         ],
         "yaxis": "y"
        },
        {
         "hovertemplate": "variable=Russia_Total<br>Date=%{x}<br>value=%{y}<extra></extra>",
         "legendgroup": "Russia_Total",
         "line": {
          "color": "#005BBB",
          "dash": "solid"
         },
         "marker": {
          "symbol": "circle"
         },
         "mode": "lines",
         "name": "Russia_Total",
         "orientation": "v",
         "showlegend": true,
         "type": "scatter",
         "x": [
          "2022-02-24",
          "2022-02-25",
          "2022-02-26",
          "2022-02-27",
          "2022-02-28",
          "2022-03-01",
          "2022-03-02",
          "2022-03-03",
          "2022-03-04",
          "2022-03-05",
          "2022-03-06",
          "2022-03-07",
          "2022-03-08",
          "2022-03-09",
          "2022-03-10",
          "2022-03-11",
          "2022-03-12",
          "2022-03-13",
          "2022-03-14",
          "2022-03-15",
          "2022-03-16",
          "2022-03-17",
          "2022-03-18",
          "2022-03-19",
          "2022-03-20",
          "2022-03-21",
          "2022-03-22",
          "2022-03-23",
          "2022-03-24",
          "2022-03-25",
          "2022-03-26",
          "2022-03-27",
          "2022-03-28",
          "2022-03-29",
          "2022-03-30",
          "2022-03-31",
          "2022-04-01",
          "2022-04-02",
          "2022-04-03",
          "2022-04-04",
          "2022-04-05",
          "2022-04-06"
         ],
         "xaxis": "x",
         "y": [
          0,
          52,
          107,
          161,
          321,
          358,
          470,
          529,
          622,
          724,
          818,
          870,
          945,
          969,
          1009,
          1104,
          1136,
          1149,
          1262,
          1308,
          1357,
          1466,
          1532,
          1581,
          1659,
          1662,
          1704,
          1750,
          1785,
          1856,
          1887,
          1986,
          2019,
          2085,
          2111,
          2147,
          2278,
          2286,
          2393,
          2437,
          2491,
          2528
         ],
         "yaxis": "y"
        }
       ],
       "layout": {
        "legend": {
         "title": {
          "text": "variable"
         },
         "tracegroupgap": 0
        },
        "paper_bgcolor": "#fbfcfc",
        "plot_bgcolor": "#fbfcfc",
        "template": {
         "data": {
          "bar": [
           {
            "error_x": {
             "color": "#2a3f5f"
            },
            "error_y": {
             "color": "#2a3f5f"
            },
            "marker": {
             "line": {
              "color": "#E5ECF6",
              "width": 0.5
             },
             "pattern": {
              "fillmode": "overlay",
              "size": 10,
              "solidity": 0.2
             }
            },
            "type": "bar"
           }
          ],
          "barpolar": [
           {
            "marker": {
             "line": {
              "color": "#E5ECF6",
              "width": 0.5
             },
             "pattern": {
              "fillmode": "overlay",
              "size": 10,
              "solidity": 0.2
             }
            },
            "type": "barpolar"
           }
          ],
          "carpet": [
           {
            "aaxis": {
             "endlinecolor": "#2a3f5f",
             "gridcolor": "white",
             "linecolor": "white",
             "minorgridcolor": "white",
             "startlinecolor": "#2a3f5f"
            },
            "baxis": {
             "endlinecolor": "#2a3f5f",
             "gridcolor": "white",
             "linecolor": "white",
             "minorgridcolor": "white",
             "startlinecolor": "#2a3f5f"
            },
            "type": "carpet"
           }
          ],
          "choropleth": [
           {
            "colorbar": {
             "outlinewidth": 0,
             "ticks": ""
            },
            "type": "choropleth"
           }
          ],
          "contour": [
           {
            "colorbar": {
             "outlinewidth": 0,
             "ticks": ""
            },
            "colorscale": [
             [
              0,
              "#0d0887"
             ],
             [
              0.1111111111111111,
              "#46039f"
             ],
             [
              0.2222222222222222,
              "#7201a8"
             ],
             [
              0.3333333333333333,
              "#9c179e"
             ],
             [
              0.4444444444444444,
              "#bd3786"
             ],
             [
              0.5555555555555556,
              "#d8576b"
             ],
             [
              0.6666666666666666,
              "#ed7953"
             ],
             [
              0.7777777777777778,
              "#fb9f3a"
             ],
             [
              0.8888888888888888,
              "#fdca26"
             ],
             [
              1,
              "#f0f921"
             ]
            ],
            "type": "contour"
           }
          ],
          "contourcarpet": [
           {
            "colorbar": {
             "outlinewidth": 0,
             "ticks": ""
            },
            "type": "contourcarpet"
           }
          ],
          "heatmap": [
           {
            "colorbar": {
             "outlinewidth": 0,
             "ticks": ""
            },
            "colorscale": [
             [
              0,
              "#0d0887"
             ],
             [
              0.1111111111111111,
              "#46039f"
             ],
             [
              0.2222222222222222,
              "#7201a8"
             ],
             [
              0.3333333333333333,
              "#9c179e"
             ],
             [
              0.4444444444444444,
              "#bd3786"
             ],
             [
              0.5555555555555556,
              "#d8576b"
             ],
             [
              0.6666666666666666,
              "#ed7953"
             ],
             [
              0.7777777777777778,
              "#fb9f3a"
             ],
             [
              0.8888888888888888,
              "#fdca26"
             ],
             [
              1,
              "#f0f921"
             ]
            ],
            "type": "heatmap"
           }
          ],
          "heatmapgl": [
           {
            "colorbar": {
             "outlinewidth": 0,
             "ticks": ""
            },
            "colorscale": [
             [
              0,
              "#0d0887"
             ],
             [
              0.1111111111111111,
              "#46039f"
             ],
             [
              0.2222222222222222,
              "#7201a8"
             ],
             [
              0.3333333333333333,
              "#9c179e"
             ],
             [
              0.4444444444444444,
              "#bd3786"
             ],
             [
              0.5555555555555556,
              "#d8576b"
             ],
             [
              0.6666666666666666,
              "#ed7953"
             ],
             [
              0.7777777777777778,
              "#fb9f3a"
             ],
             [
              0.8888888888888888,
              "#fdca26"
             ],
             [
              1,
              "#f0f921"
             ]
            ],
            "type": "heatmapgl"
           }
          ],
          "histogram": [
           {
            "marker": {
             "pattern": {
              "fillmode": "overlay",
              "size": 10,
              "solidity": 0.2
             }
            },
            "type": "histogram"
           }
          ],
          "histogram2d": [
           {
            "colorbar": {
             "outlinewidth": 0,
             "ticks": ""
            },
            "colorscale": [
             [
              0,
              "#0d0887"
             ],
             [
              0.1111111111111111,
              "#46039f"
             ],
             [
              0.2222222222222222,
              "#7201a8"
             ],
             [
              0.3333333333333333,
              "#9c179e"
             ],
             [
              0.4444444444444444,
              "#bd3786"
             ],
             [
              0.5555555555555556,
              "#d8576b"
             ],
             [
              0.6666666666666666,
              "#ed7953"
             ],
             [
              0.7777777777777778,
              "#fb9f3a"
             ],
             [
              0.8888888888888888,
              "#fdca26"
             ],
             [
              1,
              "#f0f921"
             ]
            ],
            "type": "histogram2d"
           }
          ],
          "histogram2dcontour": [
           {
            "colorbar": {
             "outlinewidth": 0,
             "ticks": ""
            },
            "colorscale": [
             [
              0,
              "#0d0887"
             ],
             [
              0.1111111111111111,
              "#46039f"
             ],
             [
              0.2222222222222222,
              "#7201a8"
             ],
             [
              0.3333333333333333,
              "#9c179e"
             ],
             [
              0.4444444444444444,
              "#bd3786"
             ],
             [
              0.5555555555555556,
              "#d8576b"
             ],
             [
              0.6666666666666666,
              "#ed7953"
             ],
             [
              0.7777777777777778,
              "#fb9f3a"
             ],
             [
              0.8888888888888888,
              "#fdca26"
             ],
             [
              1,
              "#f0f921"
             ]
            ],
            "type": "histogram2dcontour"
           }
          ],
          "mesh3d": [
           {
            "colorbar": {
             "outlinewidth": 0,
             "ticks": ""
            },
            "type": "mesh3d"
           }
          ],
          "parcoords": [
           {
            "line": {
             "colorbar": {
              "outlinewidth": 0,
              "ticks": ""
             }
            },
            "type": "parcoords"
           }
          ],
          "pie": [
           {
            "automargin": true,
            "type": "pie"
           }
          ],
          "scatter": [
           {
            "marker": {
             "colorbar": {
              "outlinewidth": 0,
              "ticks": ""
             }
            },
            "type": "scatter"
           }
          ],
          "scatter3d": [
           {
            "line": {
             "colorbar": {
              "outlinewidth": 0,
              "ticks": ""
             }
            },
            "marker": {
             "colorbar": {
              "outlinewidth": 0,
              "ticks": ""
             }
            },
            "type": "scatter3d"
           }
          ],
          "scattercarpet": [
           {
            "marker": {
             "colorbar": {
              "outlinewidth": 0,
              "ticks": ""
             }
            },
            "type": "scattercarpet"
           }
          ],
          "scattergeo": [
           {
            "marker": {
             "colorbar": {
              "outlinewidth": 0,
              "ticks": ""
             }
            },
            "type": "scattergeo"
           }
          ],
          "scattergl": [
           {
            "marker": {
             "colorbar": {
              "outlinewidth": 0,
              "ticks": ""
             }
            },
            "type": "scattergl"
           }
          ],
          "scattermapbox": [
           {
            "marker": {
             "colorbar": {
              "outlinewidth": 0,
              "ticks": ""
             }
            },
            "type": "scattermapbox"
           }
          ],
          "scatterpolar": [
           {
            "marker": {
             "colorbar": {
              "outlinewidth": 0,
              "ticks": ""
             }
            },
            "type": "scatterpolar"
           }
          ],
          "scatterpolargl": [
           {
            "marker": {
             "colorbar": {
              "outlinewidth": 0,
              "ticks": ""
             }
            },
            "type": "scatterpolargl"
           }
          ],
          "scatterternary": [
           {
            "marker": {
             "colorbar": {
              "outlinewidth": 0,
              "ticks": ""
             }
            },
            "type": "scatterternary"
           }
          ],
          "surface": [
           {
            "colorbar": {
             "outlinewidth": 0,
             "ticks": ""
            },
            "colorscale": [
             [
              0,
              "#0d0887"
             ],
             [
              0.1111111111111111,
              "#46039f"
             ],
             [
              0.2222222222222222,
              "#7201a8"
             ],
             [
              0.3333333333333333,
              "#9c179e"
             ],
             [
              0.4444444444444444,
              "#bd3786"
             ],
             [
              0.5555555555555556,
              "#d8576b"
             ],
             [
              0.6666666666666666,
              "#ed7953"
             ],
             [
              0.7777777777777778,
              "#fb9f3a"
             ],
             [
              0.8888888888888888,
              "#fdca26"
             ],
             [
              1,
              "#f0f921"
             ]
            ],
            "type": "surface"
           }
          ],
          "table": [
           {
            "cells": {
             "fill": {
              "color": "#EBF0F8"
             },
             "line": {
              "color": "white"
             }
            },
            "header": {
             "fill": {
              "color": "#C8D4E3"
             },
             "line": {
              "color": "white"
             }
            },
            "type": "table"
           }
          ]
         },
         "layout": {
          "annotationdefaults": {
           "arrowcolor": "#2a3f5f",
           "arrowhead": 0,
           "arrowwidth": 1
          },
          "autotypenumbers": "strict",
          "coloraxis": {
           "colorbar": {
            "outlinewidth": 0,
            "ticks": ""
           }
          },
          "colorscale": {
           "diverging": [
            [
             0,
             "#8e0152"
            ],
            [
             0.1,
             "#c51b7d"
            ],
            [
             0.2,
             "#de77ae"
            ],
            [
             0.3,
             "#f1b6da"
            ],
            [
             0.4,
             "#fde0ef"
            ],
            [
             0.5,
             "#f7f7f7"
            ],
            [
             0.6,
             "#e6f5d0"
            ],
            [
             0.7,
             "#b8e186"
            ],
            [
             0.8,
             "#7fbc41"
            ],
            [
             0.9,
             "#4d9221"
            ],
            [
             1,
             "#276419"
            ]
           ],
           "sequential": [
            [
             0,
             "#0d0887"
            ],
            [
             0.1111111111111111,
             "#46039f"
            ],
            [
             0.2222222222222222,
             "#7201a8"
            ],
            [
             0.3333333333333333,
             "#9c179e"
            ],
            [
             0.4444444444444444,
             "#bd3786"
            ],
            [
             0.5555555555555556,
             "#d8576b"
            ],
            [
             0.6666666666666666,
             "#ed7953"
            ],
            [
             0.7777777777777778,
             "#fb9f3a"
            ],
            [
             0.8888888888888888,
             "#fdca26"
            ],
            [
             1,
             "#f0f921"
            ]
           ],
           "sequentialminus": [
            [
             0,
             "#0d0887"
            ],
            [
             0.1111111111111111,
             "#46039f"
            ],
            [
             0.2222222222222222,
             "#7201a8"
            ],
            [
             0.3333333333333333,
             "#9c179e"
            ],
            [
             0.4444444444444444,
             "#bd3786"
            ],
            [
             0.5555555555555556,
             "#d8576b"
            ],
            [
             0.6666666666666666,
             "#ed7953"
            ],
            [
             0.7777777777777778,
             "#fb9f3a"
            ],
            [
             0.8888888888888888,
             "#fdca26"
            ],
            [
             1,
             "#f0f921"
            ]
           ]
          },
          "colorway": [
           "#636efa",
           "#EF553B",
           "#00cc96",
           "#ab63fa",
           "#FFA15A",
           "#19d3f3",
           "#FF6692",
           "#B6E880",
           "#FF97FF",
           "#FECB52"
          ],
          "font": {
           "color": "#2a3f5f"
          },
          "geo": {
           "bgcolor": "white",
           "lakecolor": "white",
           "landcolor": "#E5ECF6",
           "showlakes": true,
           "showland": true,
           "subunitcolor": "white"
          },
          "hoverlabel": {
           "align": "left"
          },
          "hovermode": "closest",
          "mapbox": {
           "style": "light"
          },
          "paper_bgcolor": "white",
          "plot_bgcolor": "#E5ECF6",
          "polar": {
           "angularaxis": {
            "gridcolor": "white",
            "linecolor": "white",
            "ticks": ""
           },
           "bgcolor": "#E5ECF6",
           "radialaxis": {
            "gridcolor": "white",
            "linecolor": "white",
            "ticks": ""
           }
          },
          "scene": {
           "xaxis": {
            "backgroundcolor": "#E5ECF6",
            "gridcolor": "white",
            "gridwidth": 2,
            "linecolor": "white",
            "showbackground": true,
            "ticks": "",
            "zerolinecolor": "white"
           },
           "yaxis": {
            "backgroundcolor": "#E5ECF6",
            "gridcolor": "white",
            "gridwidth": 2,
            "linecolor": "white",
            "showbackground": true,
            "ticks": "",
            "zerolinecolor": "white"
           },
           "zaxis": {
            "backgroundcolor": "#E5ECF6",
            "gridcolor": "white",
            "gridwidth": 2,
            "linecolor": "white",
            "showbackground": true,
            "ticks": "",
            "zerolinecolor": "white"
           }
          },
          "shapedefaults": {
           "line": {
            "color": "#2a3f5f"
           }
          },
          "ternary": {
           "aaxis": {
            "gridcolor": "white",
            "linecolor": "white",
            "ticks": ""
           },
           "baxis": {
            "gridcolor": "white",
            "linecolor": "white",
            "ticks": ""
           },
           "bgcolor": "#E5ECF6",
           "caxis": {
            "gridcolor": "white",
            "linecolor": "white",
            "ticks": ""
           }
          },
          "title": {
           "x": 0.05
          },
          "xaxis": {
           "automargin": true,
           "gridcolor": "white",
           "linecolor": "white",
           "ticks": "",
           "title": {
            "standoff": 15
           },
           "zerolinecolor": "white",
           "zerolinewidth": 2
          },
          "yaxis": {
           "automargin": true,
           "gridcolor": "white",
           "linecolor": "white",
           "ticks": "",
           "title": {
            "standoff": 15
           },
           "zerolinecolor": "white",
           "zerolinewidth": 2
          }
         }
        },
        "title": {
         "text": "Ukraine VS Russia Losses"
        },
        "xaxis": {
         "anchor": "y",
         "domain": [
          0,
          1
         ],
         "showgrid": false,
         "title": {
          "text": "Date"
         }
        },
        "yaxis": {
         "anchor": "x",
         "domain": [
          0,
          1
         ],
         "showgrid": false,
         "title": {
          "text": "value"
         }
        }
       }
      },
      "text/html": [
       "<div>                            <div id=\"b3aecaa4-2495-4a17-8ab3-1c8d1690bbc1\" class=\"plotly-graph-div\" style=\"height:525px; width:100%;\"></div>            <script type=\"text/javascript\">                require([\"plotly\"], function(Plotly) {                    window.PLOTLYENV=window.PLOTLYENV || {};                                    if (document.getElementById(\"b3aecaa4-2495-4a17-8ab3-1c8d1690bbc1\")) {                    Plotly.newPlot(                        \"b3aecaa4-2495-4a17-8ab3-1c8d1690bbc1\",                        [{\"hovertemplate\":\"variable=Ukraine_Total<br>Date=%{x}<br>value=%{y}<extra></extra>\",\"legendgroup\":\"Ukraine_Total\",\"line\":{\"color\":\"#FFD500\",\"dash\":\"solid\"},\"marker\":{\"symbol\":\"circle\"},\"mode\":\"lines\",\"name\":\"Ukraine_Total\",\"orientation\":\"v\",\"showlegend\":true,\"x\":[\"2022-02-24\",\"2022-02-25\",\"2022-02-26\",\"2022-02-27\",\"2022-02-28\",\"2022-03-01\",\"2022-03-02\",\"2022-03-03\",\"2022-03-04\",\"2022-03-05\",\"2022-03-06\",\"2022-03-07\",\"2022-03-08\",\"2022-03-09\",\"2022-03-10\",\"2022-03-11\",\"2022-03-12\",\"2022-03-13\",\"2022-03-14\",\"2022-03-15\",\"2022-03-16\",\"2022-03-17\",\"2022-03-18\",\"2022-03-19\",\"2022-03-20\",\"2022-03-21\",\"2022-03-22\",\"2022-03-23\",\"2022-03-24\",\"2022-03-25\",\"2022-03-26\",\"2022-03-27\",\"2022-03-28\",\"2022-03-29\",\"2022-03-30\",\"2022-03-31\",\"2022-04-01\",\"2022-04-02\",\"2022-04-03\",\"2022-04-04\",\"2022-04-05\",\"2022-04-06\"],\"xaxis\":\"x\",\"y\":[0,59,88,96,147,151,166,180,201,229,245,249,271,274,277,303,318,323,335,356,361,371,386,388,397,500,501,515,534,540,557,574,574,578,624,656,659,660,674,680,684,686],\"yaxis\":\"y\",\"type\":\"scatter\"},{\"hovertemplate\":\"variable=Russia_Total<br>Date=%{x}<br>value=%{y}<extra></extra>\",\"legendgroup\":\"Russia_Total\",\"line\":{\"color\":\"#005BBB\",\"dash\":\"solid\"},\"marker\":{\"symbol\":\"circle\"},\"mode\":\"lines\",\"name\":\"Russia_Total\",\"orientation\":\"v\",\"showlegend\":true,\"x\":[\"2022-02-24\",\"2022-02-25\",\"2022-02-26\",\"2022-02-27\",\"2022-02-28\",\"2022-03-01\",\"2022-03-02\",\"2022-03-03\",\"2022-03-04\",\"2022-03-05\",\"2022-03-06\",\"2022-03-07\",\"2022-03-08\",\"2022-03-09\",\"2022-03-10\",\"2022-03-11\",\"2022-03-12\",\"2022-03-13\",\"2022-03-14\",\"2022-03-15\",\"2022-03-16\",\"2022-03-17\",\"2022-03-18\",\"2022-03-19\",\"2022-03-20\",\"2022-03-21\",\"2022-03-22\",\"2022-03-23\",\"2022-03-24\",\"2022-03-25\",\"2022-03-26\",\"2022-03-27\",\"2022-03-28\",\"2022-03-29\",\"2022-03-30\",\"2022-03-31\",\"2022-04-01\",\"2022-04-02\",\"2022-04-03\",\"2022-04-04\",\"2022-04-05\",\"2022-04-06\"],\"xaxis\":\"x\",\"y\":[0,52,107,161,321,358,470,529,622,724,818,870,945,969,1009,1104,1136,1149,1262,1308,1357,1466,1532,1581,1659,1662,1704,1750,1785,1856,1887,1986,2019,2085,2111,2147,2278,2286,2393,2437,2491,2528],\"yaxis\":\"y\",\"type\":\"scatter\"}],                        {\"template\":{\"data\":{\"bar\":[{\"error_x\":{\"color\":\"#2a3f5f\"},\"error_y\":{\"color\":\"#2a3f5f\"},\"marker\":{\"line\":{\"color\":\"#E5ECF6\",\"width\":0.5},\"pattern\":{\"fillmode\":\"overlay\",\"size\":10,\"solidity\":0.2}},\"type\":\"bar\"}],\"barpolar\":[{\"marker\":{\"line\":{\"color\":\"#E5ECF6\",\"width\":0.5},\"pattern\":{\"fillmode\":\"overlay\",\"size\":10,\"solidity\":0.2}},\"type\":\"barpolar\"}],\"carpet\":[{\"aaxis\":{\"endlinecolor\":\"#2a3f5f\",\"gridcolor\":\"white\",\"linecolor\":\"white\",\"minorgridcolor\":\"white\",\"startlinecolor\":\"#2a3f5f\"},\"baxis\":{\"endlinecolor\":\"#2a3f5f\",\"gridcolor\":\"white\",\"linecolor\":\"white\",\"minorgridcolor\":\"white\",\"startlinecolor\":\"#2a3f5f\"},\"type\":\"carpet\"}],\"choropleth\":[{\"colorbar\":{\"outlinewidth\":0,\"ticks\":\"\"},\"type\":\"choropleth\"}],\"contour\":[{\"colorbar\":{\"outlinewidth\":0,\"ticks\":\"\"},\"colorscale\":[[0.0,\"#0d0887\"],[0.1111111111111111,\"#46039f\"],[0.2222222222222222,\"#7201a8\"],[0.3333333333333333,\"#9c179e\"],[0.4444444444444444,\"#bd3786\"],[0.5555555555555556,\"#d8576b\"],[0.6666666666666666,\"#ed7953\"],[0.7777777777777778,\"#fb9f3a\"],[0.8888888888888888,\"#fdca26\"],[1.0,\"#f0f921\"]],\"type\":\"contour\"}],\"contourcarpet\":[{\"colorbar\":{\"outlinewidth\":0,\"ticks\":\"\"},\"type\":\"contourcarpet\"}],\"heatmap\":[{\"colorbar\":{\"outlinewidth\":0,\"ticks\":\"\"},\"colorscale\":[[0.0,\"#0d0887\"],[0.1111111111111111,\"#46039f\"],[0.2222222222222222,\"#7201a8\"],[0.3333333333333333,\"#9c179e\"],[0.4444444444444444,\"#bd3786\"],[0.5555555555555556,\"#d8576b\"],[0.6666666666666666,\"#ed7953\"],[0.7777777777777778,\"#fb9f3a\"],[0.8888888888888888,\"#fdca26\"],[1.0,\"#f0f921\"]],\"type\":\"heatmap\"}],\"heatmapgl\":[{\"colorbar\":{\"outlinewidth\":0,\"ticks\":\"\"},\"colorscale\":[[0.0,\"#0d0887\"],[0.1111111111111111,\"#46039f\"],[0.2222222222222222,\"#7201a8\"],[0.3333333333333333,\"#9c179e\"],[0.4444444444444444,\"#bd3786\"],[0.5555555555555556,\"#d8576b\"],[0.6666666666666666,\"#ed7953\"],[0.7777777777777778,\"#fb9f3a\"],[0.8888888888888888,\"#fdca26\"],[1.0,\"#f0f921\"]],\"type\":\"heatmapgl\"}],\"histogram\":[{\"marker\":{\"pattern\":{\"fillmode\":\"overlay\",\"size\":10,\"solidity\":0.2}},\"type\":\"histogram\"}],\"histogram2d\":[{\"colorbar\":{\"outlinewidth\":0,\"ticks\":\"\"},\"colorscale\":[[0.0,\"#0d0887\"],[0.1111111111111111,\"#46039f\"],[0.2222222222222222,\"#7201a8\"],[0.3333333333333333,\"#9c179e\"],[0.4444444444444444,\"#bd3786\"],[0.5555555555555556,\"#d8576b\"],[0.6666666666666666,\"#ed7953\"],[0.7777777777777778,\"#fb9f3a\"],[0.8888888888888888,\"#fdca26\"],[1.0,\"#f0f921\"]],\"type\":\"histogram2d\"}],\"histogram2dcontour\":[{\"colorbar\":{\"outlinewidth\":0,\"ticks\":\"\"},\"colorscale\":[[0.0,\"#0d0887\"],[0.1111111111111111,\"#46039f\"],[0.2222222222222222,\"#7201a8\"],[0.3333333333333333,\"#9c179e\"],[0.4444444444444444,\"#bd3786\"],[0.5555555555555556,\"#d8576b\"],[0.6666666666666666,\"#ed7953\"],[0.7777777777777778,\"#fb9f3a\"],[0.8888888888888888,\"#fdca26\"],[1.0,\"#f0f921\"]],\"type\":\"histogram2dcontour\"}],\"mesh3d\":[{\"colorbar\":{\"outlinewidth\":0,\"ticks\":\"\"},\"type\":\"mesh3d\"}],\"parcoords\":[{\"line\":{\"colorbar\":{\"outlinewidth\":0,\"ticks\":\"\"}},\"type\":\"parcoords\"}],\"pie\":[{\"automargin\":true,\"type\":\"pie\"}],\"scatter\":[{\"marker\":{\"colorbar\":{\"outlinewidth\":0,\"ticks\":\"\"}},\"type\":\"scatter\"}],\"scatter3d\":[{\"line\":{\"colorbar\":{\"outlinewidth\":0,\"ticks\":\"\"}},\"marker\":{\"colorbar\":{\"outlinewidth\":0,\"ticks\":\"\"}},\"type\":\"scatter3d\"}],\"scattercarpet\":[{\"marker\":{\"colorbar\":{\"outlinewidth\":0,\"ticks\":\"\"}},\"type\":\"scattercarpet\"}],\"scattergeo\":[{\"marker\":{\"colorbar\":{\"outlinewidth\":0,\"ticks\":\"\"}},\"type\":\"scattergeo\"}],\"scattergl\":[{\"marker\":{\"colorbar\":{\"outlinewidth\":0,\"ticks\":\"\"}},\"type\":\"scattergl\"}],\"scattermapbox\":[{\"marker\":{\"colorbar\":{\"outlinewidth\":0,\"ticks\":\"\"}},\"type\":\"scattermapbox\"}],\"scatterpolar\":[{\"marker\":{\"colorbar\":{\"outlinewidth\":0,\"ticks\":\"\"}},\"type\":\"scatterpolar\"}],\"scatterpolargl\":[{\"marker\":{\"colorbar\":{\"outlinewidth\":0,\"ticks\":\"\"}},\"type\":\"scatterpolargl\"}],\"scatterternary\":[{\"marker\":{\"colorbar\":{\"outlinewidth\":0,\"ticks\":\"\"}},\"type\":\"scatterternary\"}],\"surface\":[{\"colorbar\":{\"outlinewidth\":0,\"ticks\":\"\"},\"colorscale\":[[0.0,\"#0d0887\"],[0.1111111111111111,\"#46039f\"],[0.2222222222222222,\"#7201a8\"],[0.3333333333333333,\"#9c179e\"],[0.4444444444444444,\"#bd3786\"],[0.5555555555555556,\"#d8576b\"],[0.6666666666666666,\"#ed7953\"],[0.7777777777777778,\"#fb9f3a\"],[0.8888888888888888,\"#fdca26\"],[1.0,\"#f0f921\"]],\"type\":\"surface\"}],\"table\":[{\"cells\":{\"fill\":{\"color\":\"#EBF0F8\"},\"line\":{\"color\":\"white\"}},\"header\":{\"fill\":{\"color\":\"#C8D4E3\"},\"line\":{\"color\":\"white\"}},\"type\":\"table\"}]},\"layout\":{\"annotationdefaults\":{\"arrowcolor\":\"#2a3f5f\",\"arrowhead\":0,\"arrowwidth\":1},\"autotypenumbers\":\"strict\",\"coloraxis\":{\"colorbar\":{\"outlinewidth\":0,\"ticks\":\"\"}},\"colorscale\":{\"diverging\":[[0,\"#8e0152\"],[0.1,\"#c51b7d\"],[0.2,\"#de77ae\"],[0.3,\"#f1b6da\"],[0.4,\"#fde0ef\"],[0.5,\"#f7f7f7\"],[0.6,\"#e6f5d0\"],[0.7,\"#b8e186\"],[0.8,\"#7fbc41\"],[0.9,\"#4d9221\"],[1,\"#276419\"]],\"sequential\":[[0.0,\"#0d0887\"],[0.1111111111111111,\"#46039f\"],[0.2222222222222222,\"#7201a8\"],[0.3333333333333333,\"#9c179e\"],[0.4444444444444444,\"#bd3786\"],[0.5555555555555556,\"#d8576b\"],[0.6666666666666666,\"#ed7953\"],[0.7777777777777778,\"#fb9f3a\"],[0.8888888888888888,\"#fdca26\"],[1.0,\"#f0f921\"]],\"sequentialminus\":[[0.0,\"#0d0887\"],[0.1111111111111111,\"#46039f\"],[0.2222222222222222,\"#7201a8\"],[0.3333333333333333,\"#9c179e\"],[0.4444444444444444,\"#bd3786\"],[0.5555555555555556,\"#d8576b\"],[0.6666666666666666,\"#ed7953\"],[0.7777777777777778,\"#fb9f3a\"],[0.8888888888888888,\"#fdca26\"],[1.0,\"#f0f921\"]]},\"colorway\":[\"#636efa\",\"#EF553B\",\"#00cc96\",\"#ab63fa\",\"#FFA15A\",\"#19d3f3\",\"#FF6692\",\"#B6E880\",\"#FF97FF\",\"#FECB52\"],\"font\":{\"color\":\"#2a3f5f\"},\"geo\":{\"bgcolor\":\"white\",\"lakecolor\":\"white\",\"landcolor\":\"#E5ECF6\",\"showlakes\":true,\"showland\":true,\"subunitcolor\":\"white\"},\"hoverlabel\":{\"align\":\"left\"},\"hovermode\":\"closest\",\"mapbox\":{\"style\":\"light\"},\"paper_bgcolor\":\"white\",\"plot_bgcolor\":\"#E5ECF6\",\"polar\":{\"angularaxis\":{\"gridcolor\":\"white\",\"linecolor\":\"white\",\"ticks\":\"\"},\"bgcolor\":\"#E5ECF6\",\"radialaxis\":{\"gridcolor\":\"white\",\"linecolor\":\"white\",\"ticks\":\"\"}},\"scene\":{\"xaxis\":{\"backgroundcolor\":\"#E5ECF6\",\"gridcolor\":\"white\",\"gridwidth\":2,\"linecolor\":\"white\",\"showbackground\":true,\"ticks\":\"\",\"zerolinecolor\":\"white\"},\"yaxis\":{\"backgroundcolor\":\"#E5ECF6\",\"gridcolor\":\"white\",\"gridwidth\":2,\"linecolor\":\"white\",\"showbackground\":true,\"ticks\":\"\",\"zerolinecolor\":\"white\"},\"zaxis\":{\"backgroundcolor\":\"#E5ECF6\",\"gridcolor\":\"white\",\"gridwidth\":2,\"linecolor\":\"white\",\"showbackground\":true,\"ticks\":\"\",\"zerolinecolor\":\"white\"}},\"shapedefaults\":{\"line\":{\"color\":\"#2a3f5f\"}},\"ternary\":{\"aaxis\":{\"gridcolor\":\"white\",\"linecolor\":\"white\",\"ticks\":\"\"},\"baxis\":{\"gridcolor\":\"white\",\"linecolor\":\"white\",\"ticks\":\"\"},\"bgcolor\":\"#E5ECF6\",\"caxis\":{\"gridcolor\":\"white\",\"linecolor\":\"white\",\"ticks\":\"\"}},\"title\":{\"x\":0.05},\"xaxis\":{\"automargin\":true,\"gridcolor\":\"white\",\"linecolor\":\"white\",\"ticks\":\"\",\"title\":{\"standoff\":15},\"zerolinecolor\":\"white\",\"zerolinewidth\":2},\"yaxis\":{\"automargin\":true,\"gridcolor\":\"white\",\"linecolor\":\"white\",\"ticks\":\"\",\"title\":{\"standoff\":15},\"zerolinecolor\":\"white\",\"zerolinewidth\":2}}},\"xaxis\":{\"anchor\":\"y\",\"domain\":[0.0,1.0],\"title\":{\"text\":\"Date\"},\"showgrid\":false},\"yaxis\":{\"anchor\":\"x\",\"domain\":[0.0,1.0],\"title\":{\"text\":\"value\"},\"showgrid\":false},\"legend\":{\"title\":{\"text\":\"variable\"},\"tracegroupgap\":0},\"title\":{\"text\":\"Ukraine VS Russia Losses\"},\"paper_bgcolor\":\"#fbfcfc\",\"plot_bgcolor\":\"#fbfcfc\"},                        {\"responsive\": true}                    ).then(function(){\n",
       "                            \n",
       "var gd = document.getElementById('b3aecaa4-2495-4a17-8ab3-1c8d1690bbc1');\n",
       "var x = new MutationObserver(function (mutations, observer) {{\n",
       "        var display = window.getComputedStyle(gd).display;\n",
       "        if (!display || display === 'none') {{\n",
       "            console.log([gd, 'removed!']);\n",
       "            Plotly.purge(gd);\n",
       "            observer.disconnect();\n",
       "        }}\n",
       "}});\n",
       "\n",
       "// Listen for the removal of the full notebook cells\n",
       "var notebookContainer = gd.closest('#notebook-container');\n",
       "if (notebookContainer) {{\n",
       "    x.observe(notebookContainer, {childList: true});\n",
       "}}\n",
       "\n",
       "// Listen for the clearing of the current output cell\n",
       "var outputEl = gd.closest('.output');\n",
       "if (outputEl) {{\n",
       "    x.observe(outputEl, {childList: true});\n",
       "}}\n",
       "\n",
       "                        })                };                });            </script>        </div>"
      ]
     },
     "metadata": {},
     "output_type": "display_data"
    }
   ],
   "source": [
    "draw = px.line(UR_Data , x='Date' , y =[\"Ukraine_Total\" , \"Russia_Total\"] , title=\"Ukraine VS Russia Losses\")\n",
    "draw.update_layout(paper_bgcolor= color_global , plot_bgcolor = color_global , xaxis=dict(showgrid=False),\n",
    "          yaxis=dict(showgrid=False) \n",
    "                  , \n",
    "                  )\n",
    "draw['data'][0]['line']['color']= \"#FFD500\"\n",
    "draw['data'][1]['line']['color']= \"#005BBB\"\n",
    "draw"
   ]
  },
  {
   "cell_type": "code",
   "execution_count": 1750,
   "metadata": {},
   "outputs": [
    {
     "data": {
      "application/vnd.plotly.v1+json": {
       "config": {
        "plotlyServerURL": "https://plot.ly"
       },
       "data": [
        {
         "hovertemplate": "variable=Fruits and vegatables.1<br>Date=%{x}<br>value=%{y}<extra></extra>",
         "legendgroup": "Fruits and vegatables.1",
         "line": {
          "color": "#ff6347",
          "dash": "solid"
         },
         "marker": {
          "symbol": "circle"
         },
         "mode": "lines",
         "name": "Fruits and vegatables.1",
         "orientation": "v",
         "showlegend": true,
         "type": "scatter",
         "x": [
          "21-Jan",
          "21-Feb",
          "21-Mar",
          "21-Apr",
          "21-May",
          "21-Jun",
          "21-Jul",
          "21-Aug",
          "21-Sep",
          "21-Oct",
          "21-Nov",
          "21-Dec",
          "22-Jan",
          "22-Feb",
          "22-Mar"
         ],
         "xaxis": "x",
         "y": [
          -8.518,
          -7.647,
          -1.516,
          -5.32,
          6.931,
          0.098,
          0.774,
          8.733,
          25.946,
          20.911,
          -6.5,
          -5.07,
          14.182,
          35.195,
          24.205
         ],
         "yaxis": "y"
        },
        {
         "hovertemplate": "variable=Regulated Items.1<br>Date=%{x}<br>value=%{y}<extra></extra>",
         "legendgroup": "Regulated Items.1",
         "line": {
          "color": "#005BBB",
          "dash": "solid"
         },
         "marker": {
          "symbol": "circle"
         },
         "mode": "lines",
         "name": "Regulated Items.1",
         "orientation": "v",
         "showlegend": true,
         "type": "scatter",
         "x": [
          "21-Jan",
          "21-Feb",
          "21-Mar",
          "21-Apr",
          "21-May",
          "21-Jun",
          "21-Jul",
          "21-Aug",
          "21-Sep",
          "21-Oct",
          "21-Nov",
          "21-Dec",
          "22-Jan",
          "22-Feb",
          "22-Mar"
         ],
         "xaxis": "x",
         "y": [
          9.297,
          9.729,
          8.337,
          8.854,
          8.88,
          9.507,
          9.219,
          8.55,
          7.646,
          6.348,
          7.796,
          8.181,
          8.919,
          8.68,
          9.079
         ],
         "yaxis": "y"
        }
       ],
       "layout": {
        "legend": {
         "title": {
          "text": "variable"
         },
         "tracegroupgap": 0
        },
        "margin": {
         "t": 60
        },
        "paper_bgcolor": "#fbfcfc",
        "plot_bgcolor": "#fbfcfc",
        "template": {
         "data": {
          "bar": [
           {
            "error_x": {
             "color": "#2a3f5f"
            },
            "error_y": {
             "color": "#2a3f5f"
            },
            "marker": {
             "line": {
              "color": "#E5ECF6",
              "width": 0.5
             },
             "pattern": {
              "fillmode": "overlay",
              "size": 10,
              "solidity": 0.2
             }
            },
            "type": "bar"
           }
          ],
          "barpolar": [
           {
            "marker": {
             "line": {
              "color": "#E5ECF6",
              "width": 0.5
             },
             "pattern": {
              "fillmode": "overlay",
              "size": 10,
              "solidity": 0.2
             }
            },
            "type": "barpolar"
           }
          ],
          "carpet": [
           {
            "aaxis": {
             "endlinecolor": "#2a3f5f",
             "gridcolor": "white",
             "linecolor": "white",
             "minorgridcolor": "white",
             "startlinecolor": "#2a3f5f"
            },
            "baxis": {
             "endlinecolor": "#2a3f5f",
             "gridcolor": "white",
             "linecolor": "white",
             "minorgridcolor": "white",
             "startlinecolor": "#2a3f5f"
            },
            "type": "carpet"
           }
          ],
          "choropleth": [
           {
            "colorbar": {
             "outlinewidth": 0,
             "ticks": ""
            },
            "type": "choropleth"
           }
          ],
          "contour": [
           {
            "colorbar": {
             "outlinewidth": 0,
             "ticks": ""
            },
            "colorscale": [
             [
              0,
              "#0d0887"
             ],
             [
              0.1111111111111111,
              "#46039f"
             ],
             [
              0.2222222222222222,
              "#7201a8"
             ],
             [
              0.3333333333333333,
              "#9c179e"
             ],
             [
              0.4444444444444444,
              "#bd3786"
             ],
             [
              0.5555555555555556,
              "#d8576b"
             ],
             [
              0.6666666666666666,
              "#ed7953"
             ],
             [
              0.7777777777777778,
              "#fb9f3a"
             ],
             [
              0.8888888888888888,
              "#fdca26"
             ],
             [
              1,
              "#f0f921"
             ]
            ],
            "type": "contour"
           }
          ],
          "contourcarpet": [
           {
            "colorbar": {
             "outlinewidth": 0,
             "ticks": ""
            },
            "type": "contourcarpet"
           }
          ],
          "heatmap": [
           {
            "colorbar": {
             "outlinewidth": 0,
             "ticks": ""
            },
            "colorscale": [
             [
              0,
              "#0d0887"
             ],
             [
              0.1111111111111111,
              "#46039f"
             ],
             [
              0.2222222222222222,
              "#7201a8"
             ],
             [
              0.3333333333333333,
              "#9c179e"
             ],
             [
              0.4444444444444444,
              "#bd3786"
             ],
             [
              0.5555555555555556,
              "#d8576b"
             ],
             [
              0.6666666666666666,
              "#ed7953"
             ],
             [
              0.7777777777777778,
              "#fb9f3a"
             ],
             [
              0.8888888888888888,
              "#fdca26"
             ],
             [
              1,
              "#f0f921"
             ]
            ],
            "type": "heatmap"
           }
          ],
          "heatmapgl": [
           {
            "colorbar": {
             "outlinewidth": 0,
             "ticks": ""
            },
            "colorscale": [
             [
              0,
              "#0d0887"
             ],
             [
              0.1111111111111111,
              "#46039f"
             ],
             [
              0.2222222222222222,
              "#7201a8"
             ],
             [
              0.3333333333333333,
              "#9c179e"
             ],
             [
              0.4444444444444444,
              "#bd3786"
             ],
             [
              0.5555555555555556,
              "#d8576b"
             ],
             [
              0.6666666666666666,
              "#ed7953"
             ],
             [
              0.7777777777777778,
              "#fb9f3a"
             ],
             [
              0.8888888888888888,
              "#fdca26"
             ],
             [
              1,
              "#f0f921"
             ]
            ],
            "type": "heatmapgl"
           }
          ],
          "histogram": [
           {
            "marker": {
             "pattern": {
              "fillmode": "overlay",
              "size": 10,
              "solidity": 0.2
             }
            },
            "type": "histogram"
           }
          ],
          "histogram2d": [
           {
            "colorbar": {
             "outlinewidth": 0,
             "ticks": ""
            },
            "colorscale": [
             [
              0,
              "#0d0887"
             ],
             [
              0.1111111111111111,
              "#46039f"
             ],
             [
              0.2222222222222222,
              "#7201a8"
             ],
             [
              0.3333333333333333,
              "#9c179e"
             ],
             [
              0.4444444444444444,
              "#bd3786"
             ],
             [
              0.5555555555555556,
              "#d8576b"
             ],
             [
              0.6666666666666666,
              "#ed7953"
             ],
             [
              0.7777777777777778,
              "#fb9f3a"
             ],
             [
              0.8888888888888888,
              "#fdca26"
             ],
             [
              1,
              "#f0f921"
             ]
            ],
            "type": "histogram2d"
           }
          ],
          "histogram2dcontour": [
           {
            "colorbar": {
             "outlinewidth": 0,
             "ticks": ""
            },
            "colorscale": [
             [
              0,
              "#0d0887"
             ],
             [
              0.1111111111111111,
              "#46039f"
             ],
             [
              0.2222222222222222,
              "#7201a8"
             ],
             [
              0.3333333333333333,
              "#9c179e"
             ],
             [
              0.4444444444444444,
              "#bd3786"
             ],
             [
              0.5555555555555556,
              "#d8576b"
             ],
             [
              0.6666666666666666,
              "#ed7953"
             ],
             [
              0.7777777777777778,
              "#fb9f3a"
             ],
             [
              0.8888888888888888,
              "#fdca26"
             ],
             [
              1,
              "#f0f921"
             ]
            ],
            "type": "histogram2dcontour"
           }
          ],
          "mesh3d": [
           {
            "colorbar": {
             "outlinewidth": 0,
             "ticks": ""
            },
            "type": "mesh3d"
           }
          ],
          "parcoords": [
           {
            "line": {
             "colorbar": {
              "outlinewidth": 0,
              "ticks": ""
             }
            },
            "type": "parcoords"
           }
          ],
          "pie": [
           {
            "automargin": true,
            "type": "pie"
           }
          ],
          "scatter": [
           {
            "marker": {
             "colorbar": {
              "outlinewidth": 0,
              "ticks": ""
             }
            },
            "type": "scatter"
           }
          ],
          "scatter3d": [
           {
            "line": {
             "colorbar": {
              "outlinewidth": 0,
              "ticks": ""
             }
            },
            "marker": {
             "colorbar": {
              "outlinewidth": 0,
              "ticks": ""
             }
            },
            "type": "scatter3d"
           }
          ],
          "scattercarpet": [
           {
            "marker": {
             "colorbar": {
              "outlinewidth": 0,
              "ticks": ""
             }
            },
            "type": "scattercarpet"
           }
          ],
          "scattergeo": [
           {
            "marker": {
             "colorbar": {
              "outlinewidth": 0,
              "ticks": ""
             }
            },
            "type": "scattergeo"
           }
          ],
          "scattergl": [
           {
            "marker": {
             "colorbar": {
              "outlinewidth": 0,
              "ticks": ""
             }
            },
            "type": "scattergl"
           }
          ],
          "scattermapbox": [
           {
            "marker": {
             "colorbar": {
              "outlinewidth": 0,
              "ticks": ""
             }
            },
            "type": "scattermapbox"
           }
          ],
          "scatterpolar": [
           {
            "marker": {
             "colorbar": {
              "outlinewidth": 0,
              "ticks": ""
             }
            },
            "type": "scatterpolar"
           }
          ],
          "scatterpolargl": [
           {
            "marker": {
             "colorbar": {
              "outlinewidth": 0,
              "ticks": ""
             }
            },
            "type": "scatterpolargl"
           }
          ],
          "scatterternary": [
           {
            "marker": {
             "colorbar": {
              "outlinewidth": 0,
              "ticks": ""
             }
            },
            "type": "scatterternary"
           }
          ],
          "surface": [
           {
            "colorbar": {
             "outlinewidth": 0,
             "ticks": ""
            },
            "colorscale": [
             [
              0,
              "#0d0887"
             ],
             [
              0.1111111111111111,
              "#46039f"
             ],
             [
              0.2222222222222222,
              "#7201a8"
             ],
             [
              0.3333333333333333,
              "#9c179e"
             ],
             [
              0.4444444444444444,
              "#bd3786"
             ],
             [
              0.5555555555555556,
              "#d8576b"
             ],
             [
              0.6666666666666666,
              "#ed7953"
             ],
             [
              0.7777777777777778,
              "#fb9f3a"
             ],
             [
              0.8888888888888888,
              "#fdca26"
             ],
             [
              1,
              "#f0f921"
             ]
            ],
            "type": "surface"
           }
          ],
          "table": [
           {
            "cells": {
             "fill": {
              "color": "#EBF0F8"
             },
             "line": {
              "color": "white"
             }
            },
            "header": {
             "fill": {
              "color": "#C8D4E3"
             },
             "line": {
              "color": "white"
             }
            },
            "type": "table"
           }
          ]
         },
         "layout": {
          "annotationdefaults": {
           "arrowcolor": "#2a3f5f",
           "arrowhead": 0,
           "arrowwidth": 1
          },
          "autotypenumbers": "strict",
          "coloraxis": {
           "colorbar": {
            "outlinewidth": 0,
            "ticks": ""
           }
          },
          "colorscale": {
           "diverging": [
            [
             0,
             "#8e0152"
            ],
            [
             0.1,
             "#c51b7d"
            ],
            [
             0.2,
             "#de77ae"
            ],
            [
             0.3,
             "#f1b6da"
            ],
            [
             0.4,
             "#fde0ef"
            ],
            [
             0.5,
             "#f7f7f7"
            ],
            [
             0.6,
             "#e6f5d0"
            ],
            [
             0.7,
             "#b8e186"
            ],
            [
             0.8,
             "#7fbc41"
            ],
            [
             0.9,
             "#4d9221"
            ],
            [
             1,
             "#276419"
            ]
           ],
           "sequential": [
            [
             0,
             "#0d0887"
            ],
            [
             0.1111111111111111,
             "#46039f"
            ],
            [
             0.2222222222222222,
             "#7201a8"
            ],
            [
             0.3333333333333333,
             "#9c179e"
            ],
            [
             0.4444444444444444,
             "#bd3786"
            ],
            [
             0.5555555555555556,
             "#d8576b"
            ],
            [
             0.6666666666666666,
             "#ed7953"
            ],
            [
             0.7777777777777778,
             "#fb9f3a"
            ],
            [
             0.8888888888888888,
             "#fdca26"
            ],
            [
             1,
             "#f0f921"
            ]
           ],
           "sequentialminus": [
            [
             0,
             "#0d0887"
            ],
            [
             0.1111111111111111,
             "#46039f"
            ],
            [
             0.2222222222222222,
             "#7201a8"
            ],
            [
             0.3333333333333333,
             "#9c179e"
            ],
            [
             0.4444444444444444,
             "#bd3786"
            ],
            [
             0.5555555555555556,
             "#d8576b"
            ],
            [
             0.6666666666666666,
             "#ed7953"
            ],
            [
             0.7777777777777778,
             "#fb9f3a"
            ],
            [
             0.8888888888888888,
             "#fdca26"
            ],
            [
             1,
             "#f0f921"
            ]
           ]
          },
          "colorway": [
           "#636efa",
           "#EF553B",
           "#00cc96",
           "#ab63fa",
           "#FFA15A",
           "#19d3f3",
           "#FF6692",
           "#B6E880",
           "#FF97FF",
           "#FECB52"
          ],
          "font": {
           "color": "#2a3f5f"
          },
          "geo": {
           "bgcolor": "white",
           "lakecolor": "white",
           "landcolor": "#E5ECF6",
           "showlakes": true,
           "showland": true,
           "subunitcolor": "white"
          },
          "hoverlabel": {
           "align": "left"
          },
          "hovermode": "closest",
          "mapbox": {
           "style": "light"
          },
          "paper_bgcolor": "white",
          "plot_bgcolor": "#E5ECF6",
          "polar": {
           "angularaxis": {
            "gridcolor": "white",
            "linecolor": "white",
            "ticks": ""
           },
           "bgcolor": "#E5ECF6",
           "radialaxis": {
            "gridcolor": "white",
            "linecolor": "white",
            "ticks": ""
           }
          },
          "scene": {
           "xaxis": {
            "backgroundcolor": "#E5ECF6",
            "gridcolor": "white",
            "gridwidth": 2,
            "linecolor": "white",
            "showbackground": true,
            "ticks": "",
            "zerolinecolor": "white"
           },
           "yaxis": {
            "backgroundcolor": "#E5ECF6",
            "gridcolor": "white",
            "gridwidth": 2,
            "linecolor": "white",
            "showbackground": true,
            "ticks": "",
            "zerolinecolor": "white"
           },
           "zaxis": {
            "backgroundcolor": "#E5ECF6",
            "gridcolor": "white",
            "gridwidth": 2,
            "linecolor": "white",
            "showbackground": true,
            "ticks": "",
            "zerolinecolor": "white"
           }
          },
          "shapedefaults": {
           "line": {
            "color": "#2a3f5f"
           }
          },
          "ternary": {
           "aaxis": {
            "gridcolor": "white",
            "linecolor": "white",
            "ticks": ""
           },
           "baxis": {
            "gridcolor": "white",
            "linecolor": "white",
            "ticks": ""
           },
           "bgcolor": "#E5ECF6",
           "caxis": {
            "gridcolor": "white",
            "linecolor": "white",
            "ticks": ""
           }
          },
          "title": {
           "x": 0.05
          },
          "xaxis": {
           "automargin": true,
           "gridcolor": "white",
           "linecolor": "white",
           "ticks": "",
           "title": {
            "standoff": 15
           },
           "zerolinecolor": "white",
           "zerolinewidth": 2
          },
          "yaxis": {
           "automargin": true,
           "gridcolor": "white",
           "linecolor": "white",
           "ticks": "",
           "title": {
            "standoff": 15
           },
           "zerolinecolor": "white",
           "zerolinewidth": 2
          }
         }
        },
        "xaxis": {
         "anchor": "y",
         "domain": [
          0,
          1
         ],
         "showgrid": false,
         "title": {
          "text": "Date"
         }
        },
        "yaxis": {
         "anchor": "x",
         "domain": [
          0,
          1
         ],
         "showgrid": false,
         "title": {
          "text": "value"
         }
        }
       }
      },
      "text/html": [
       "<div>                            <div id=\"fe478665-7e7a-4f7a-bb44-0b2d4e3923d2\" class=\"plotly-graph-div\" style=\"height:525px; width:100%;\"></div>            <script type=\"text/javascript\">                require([\"plotly\"], function(Plotly) {                    window.PLOTLYENV=window.PLOTLYENV || {};                                    if (document.getElementById(\"fe478665-7e7a-4f7a-bb44-0b2d4e3923d2\")) {                    Plotly.newPlot(                        \"fe478665-7e7a-4f7a-bb44-0b2d4e3923d2\",                        [{\"hovertemplate\":\"variable=Fruits and vegatables.1<br>Date=%{x}<br>value=%{y}<extra></extra>\",\"legendgroup\":\"Fruits and vegatables.1\",\"line\":{\"color\":\"#ff6347\",\"dash\":\"solid\"},\"marker\":{\"symbol\":\"circle\"},\"mode\":\"lines\",\"name\":\"Fruits and vegatables.1\",\"orientation\":\"v\",\"showlegend\":true,\"x\":[\"21-Jan\",\"21-Feb\",\"21-Mar\",\"21-Apr\",\"21-May\",\"21-Jun\",\"21-Jul\",\"21-Aug\",\"21-Sep\",\"21-Oct\",\"21-Nov\",\"21-Dec\",\"22-Jan\",\"22-Feb\",\"22-Mar\"],\"xaxis\":\"x\",\"y\":[-8.518,-7.647,-1.516,-5.32,6.931,0.098,0.774,8.733,25.946,20.911,-6.5,-5.07,14.182,35.195,24.205],\"yaxis\":\"y\",\"type\":\"scatter\"},{\"hovertemplate\":\"variable=Regulated Items.1<br>Date=%{x}<br>value=%{y}<extra></extra>\",\"legendgroup\":\"Regulated Items.1\",\"line\":{\"color\":\"#005BBB\",\"dash\":\"solid\"},\"marker\":{\"symbol\":\"circle\"},\"mode\":\"lines\",\"name\":\"Regulated Items.1\",\"orientation\":\"v\",\"showlegend\":true,\"x\":[\"21-Jan\",\"21-Feb\",\"21-Mar\",\"21-Apr\",\"21-May\",\"21-Jun\",\"21-Jul\",\"21-Aug\",\"21-Sep\",\"21-Oct\",\"21-Nov\",\"21-Dec\",\"22-Jan\",\"22-Feb\",\"22-Mar\"],\"xaxis\":\"x\",\"y\":[9.297,9.729,8.337,8.854,8.88,9.507,9.219,8.55,7.646,6.348,7.796,8.181,8.919,8.68,9.079],\"yaxis\":\"y\",\"type\":\"scatter\"}],                        {\"template\":{\"data\":{\"bar\":[{\"error_x\":{\"color\":\"#2a3f5f\"},\"error_y\":{\"color\":\"#2a3f5f\"},\"marker\":{\"line\":{\"color\":\"#E5ECF6\",\"width\":0.5},\"pattern\":{\"fillmode\":\"overlay\",\"size\":10,\"solidity\":0.2}},\"type\":\"bar\"}],\"barpolar\":[{\"marker\":{\"line\":{\"color\":\"#E5ECF6\",\"width\":0.5},\"pattern\":{\"fillmode\":\"overlay\",\"size\":10,\"solidity\":0.2}},\"type\":\"barpolar\"}],\"carpet\":[{\"aaxis\":{\"endlinecolor\":\"#2a3f5f\",\"gridcolor\":\"white\",\"linecolor\":\"white\",\"minorgridcolor\":\"white\",\"startlinecolor\":\"#2a3f5f\"},\"baxis\":{\"endlinecolor\":\"#2a3f5f\",\"gridcolor\":\"white\",\"linecolor\":\"white\",\"minorgridcolor\":\"white\",\"startlinecolor\":\"#2a3f5f\"},\"type\":\"carpet\"}],\"choropleth\":[{\"colorbar\":{\"outlinewidth\":0,\"ticks\":\"\"},\"type\":\"choropleth\"}],\"contour\":[{\"colorbar\":{\"outlinewidth\":0,\"ticks\":\"\"},\"colorscale\":[[0.0,\"#0d0887\"],[0.1111111111111111,\"#46039f\"],[0.2222222222222222,\"#7201a8\"],[0.3333333333333333,\"#9c179e\"],[0.4444444444444444,\"#bd3786\"],[0.5555555555555556,\"#d8576b\"],[0.6666666666666666,\"#ed7953\"],[0.7777777777777778,\"#fb9f3a\"],[0.8888888888888888,\"#fdca26\"],[1.0,\"#f0f921\"]],\"type\":\"contour\"}],\"contourcarpet\":[{\"colorbar\":{\"outlinewidth\":0,\"ticks\":\"\"},\"type\":\"contourcarpet\"}],\"heatmap\":[{\"colorbar\":{\"outlinewidth\":0,\"ticks\":\"\"},\"colorscale\":[[0.0,\"#0d0887\"],[0.1111111111111111,\"#46039f\"],[0.2222222222222222,\"#7201a8\"],[0.3333333333333333,\"#9c179e\"],[0.4444444444444444,\"#bd3786\"],[0.5555555555555556,\"#d8576b\"],[0.6666666666666666,\"#ed7953\"],[0.7777777777777778,\"#fb9f3a\"],[0.8888888888888888,\"#fdca26\"],[1.0,\"#f0f921\"]],\"type\":\"heatmap\"}],\"heatmapgl\":[{\"colorbar\":{\"outlinewidth\":0,\"ticks\":\"\"},\"colorscale\":[[0.0,\"#0d0887\"],[0.1111111111111111,\"#46039f\"],[0.2222222222222222,\"#7201a8\"],[0.3333333333333333,\"#9c179e\"],[0.4444444444444444,\"#bd3786\"],[0.5555555555555556,\"#d8576b\"],[0.6666666666666666,\"#ed7953\"],[0.7777777777777778,\"#fb9f3a\"],[0.8888888888888888,\"#fdca26\"],[1.0,\"#f0f921\"]],\"type\":\"heatmapgl\"}],\"histogram\":[{\"marker\":{\"pattern\":{\"fillmode\":\"overlay\",\"size\":10,\"solidity\":0.2}},\"type\":\"histogram\"}],\"histogram2d\":[{\"colorbar\":{\"outlinewidth\":0,\"ticks\":\"\"},\"colorscale\":[[0.0,\"#0d0887\"],[0.1111111111111111,\"#46039f\"],[0.2222222222222222,\"#7201a8\"],[0.3333333333333333,\"#9c179e\"],[0.4444444444444444,\"#bd3786\"],[0.5555555555555556,\"#d8576b\"],[0.6666666666666666,\"#ed7953\"],[0.7777777777777778,\"#fb9f3a\"],[0.8888888888888888,\"#fdca26\"],[1.0,\"#f0f921\"]],\"type\":\"histogram2d\"}],\"histogram2dcontour\":[{\"colorbar\":{\"outlinewidth\":0,\"ticks\":\"\"},\"colorscale\":[[0.0,\"#0d0887\"],[0.1111111111111111,\"#46039f\"],[0.2222222222222222,\"#7201a8\"],[0.3333333333333333,\"#9c179e\"],[0.4444444444444444,\"#bd3786\"],[0.5555555555555556,\"#d8576b\"],[0.6666666666666666,\"#ed7953\"],[0.7777777777777778,\"#fb9f3a\"],[0.8888888888888888,\"#fdca26\"],[1.0,\"#f0f921\"]],\"type\":\"histogram2dcontour\"}],\"mesh3d\":[{\"colorbar\":{\"outlinewidth\":0,\"ticks\":\"\"},\"type\":\"mesh3d\"}],\"parcoords\":[{\"line\":{\"colorbar\":{\"outlinewidth\":0,\"ticks\":\"\"}},\"type\":\"parcoords\"}],\"pie\":[{\"automargin\":true,\"type\":\"pie\"}],\"scatter\":[{\"marker\":{\"colorbar\":{\"outlinewidth\":0,\"ticks\":\"\"}},\"type\":\"scatter\"}],\"scatter3d\":[{\"line\":{\"colorbar\":{\"outlinewidth\":0,\"ticks\":\"\"}},\"marker\":{\"colorbar\":{\"outlinewidth\":0,\"ticks\":\"\"}},\"type\":\"scatter3d\"}],\"scattercarpet\":[{\"marker\":{\"colorbar\":{\"outlinewidth\":0,\"ticks\":\"\"}},\"type\":\"scattercarpet\"}],\"scattergeo\":[{\"marker\":{\"colorbar\":{\"outlinewidth\":0,\"ticks\":\"\"}},\"type\":\"scattergeo\"}],\"scattergl\":[{\"marker\":{\"colorbar\":{\"outlinewidth\":0,\"ticks\":\"\"}},\"type\":\"scattergl\"}],\"scattermapbox\":[{\"marker\":{\"colorbar\":{\"outlinewidth\":0,\"ticks\":\"\"}},\"type\":\"scattermapbox\"}],\"scatterpolar\":[{\"marker\":{\"colorbar\":{\"outlinewidth\":0,\"ticks\":\"\"}},\"type\":\"scatterpolar\"}],\"scatterpolargl\":[{\"marker\":{\"colorbar\":{\"outlinewidth\":0,\"ticks\":\"\"}},\"type\":\"scatterpolargl\"}],\"scatterternary\":[{\"marker\":{\"colorbar\":{\"outlinewidth\":0,\"ticks\":\"\"}},\"type\":\"scatterternary\"}],\"surface\":[{\"colorbar\":{\"outlinewidth\":0,\"ticks\":\"\"},\"colorscale\":[[0.0,\"#0d0887\"],[0.1111111111111111,\"#46039f\"],[0.2222222222222222,\"#7201a8\"],[0.3333333333333333,\"#9c179e\"],[0.4444444444444444,\"#bd3786\"],[0.5555555555555556,\"#d8576b\"],[0.6666666666666666,\"#ed7953\"],[0.7777777777777778,\"#fb9f3a\"],[0.8888888888888888,\"#fdca26\"],[1.0,\"#f0f921\"]],\"type\":\"surface\"}],\"table\":[{\"cells\":{\"fill\":{\"color\":\"#EBF0F8\"},\"line\":{\"color\":\"white\"}},\"header\":{\"fill\":{\"color\":\"#C8D4E3\"},\"line\":{\"color\":\"white\"}},\"type\":\"table\"}]},\"layout\":{\"annotationdefaults\":{\"arrowcolor\":\"#2a3f5f\",\"arrowhead\":0,\"arrowwidth\":1},\"autotypenumbers\":\"strict\",\"coloraxis\":{\"colorbar\":{\"outlinewidth\":0,\"ticks\":\"\"}},\"colorscale\":{\"diverging\":[[0,\"#8e0152\"],[0.1,\"#c51b7d\"],[0.2,\"#de77ae\"],[0.3,\"#f1b6da\"],[0.4,\"#fde0ef\"],[0.5,\"#f7f7f7\"],[0.6,\"#e6f5d0\"],[0.7,\"#b8e186\"],[0.8,\"#7fbc41\"],[0.9,\"#4d9221\"],[1,\"#276419\"]],\"sequential\":[[0.0,\"#0d0887\"],[0.1111111111111111,\"#46039f\"],[0.2222222222222222,\"#7201a8\"],[0.3333333333333333,\"#9c179e\"],[0.4444444444444444,\"#bd3786\"],[0.5555555555555556,\"#d8576b\"],[0.6666666666666666,\"#ed7953\"],[0.7777777777777778,\"#fb9f3a\"],[0.8888888888888888,\"#fdca26\"],[1.0,\"#f0f921\"]],\"sequentialminus\":[[0.0,\"#0d0887\"],[0.1111111111111111,\"#46039f\"],[0.2222222222222222,\"#7201a8\"],[0.3333333333333333,\"#9c179e\"],[0.4444444444444444,\"#bd3786\"],[0.5555555555555556,\"#d8576b\"],[0.6666666666666666,\"#ed7953\"],[0.7777777777777778,\"#fb9f3a\"],[0.8888888888888888,\"#fdca26\"],[1.0,\"#f0f921\"]]},\"colorway\":[\"#636efa\",\"#EF553B\",\"#00cc96\",\"#ab63fa\",\"#FFA15A\",\"#19d3f3\",\"#FF6692\",\"#B6E880\",\"#FF97FF\",\"#FECB52\"],\"font\":{\"color\":\"#2a3f5f\"},\"geo\":{\"bgcolor\":\"white\",\"lakecolor\":\"white\",\"landcolor\":\"#E5ECF6\",\"showlakes\":true,\"showland\":true,\"subunitcolor\":\"white\"},\"hoverlabel\":{\"align\":\"left\"},\"hovermode\":\"closest\",\"mapbox\":{\"style\":\"light\"},\"paper_bgcolor\":\"white\",\"plot_bgcolor\":\"#E5ECF6\",\"polar\":{\"angularaxis\":{\"gridcolor\":\"white\",\"linecolor\":\"white\",\"ticks\":\"\"},\"bgcolor\":\"#E5ECF6\",\"radialaxis\":{\"gridcolor\":\"white\",\"linecolor\":\"white\",\"ticks\":\"\"}},\"scene\":{\"xaxis\":{\"backgroundcolor\":\"#E5ECF6\",\"gridcolor\":\"white\",\"gridwidth\":2,\"linecolor\":\"white\",\"showbackground\":true,\"ticks\":\"\",\"zerolinecolor\":\"white\"},\"yaxis\":{\"backgroundcolor\":\"#E5ECF6\",\"gridcolor\":\"white\",\"gridwidth\":2,\"linecolor\":\"white\",\"showbackground\":true,\"ticks\":\"\",\"zerolinecolor\":\"white\"},\"zaxis\":{\"backgroundcolor\":\"#E5ECF6\",\"gridcolor\":\"white\",\"gridwidth\":2,\"linecolor\":\"white\",\"showbackground\":true,\"ticks\":\"\",\"zerolinecolor\":\"white\"}},\"shapedefaults\":{\"line\":{\"color\":\"#2a3f5f\"}},\"ternary\":{\"aaxis\":{\"gridcolor\":\"white\",\"linecolor\":\"white\",\"ticks\":\"\"},\"baxis\":{\"gridcolor\":\"white\",\"linecolor\":\"white\",\"ticks\":\"\"},\"bgcolor\":\"#E5ECF6\",\"caxis\":{\"gridcolor\":\"white\",\"linecolor\":\"white\",\"ticks\":\"\"}},\"title\":{\"x\":0.05},\"xaxis\":{\"automargin\":true,\"gridcolor\":\"white\",\"linecolor\":\"white\",\"ticks\":\"\",\"title\":{\"standoff\":15},\"zerolinecolor\":\"white\",\"zerolinewidth\":2},\"yaxis\":{\"automargin\":true,\"gridcolor\":\"white\",\"linecolor\":\"white\",\"ticks\":\"\",\"title\":{\"standoff\":15},\"zerolinecolor\":\"white\",\"zerolinewidth\":2}}},\"xaxis\":{\"anchor\":\"y\",\"domain\":[0.0,1.0],\"title\":{\"text\":\"Date\"},\"showgrid\":false},\"yaxis\":{\"anchor\":\"x\",\"domain\":[0.0,1.0],\"title\":{\"text\":\"value\"},\"showgrid\":false},\"legend\":{\"title\":{\"text\":\"variable\"},\"tracegroupgap\":0},\"margin\":{\"t\":60},\"paper_bgcolor\":\"#fbfcfc\",\"plot_bgcolor\":\"#fbfcfc\"},                        {\"responsive\": true}                    ).then(function(){\n",
       "                            \n",
       "var gd = document.getElementById('fe478665-7e7a-4f7a-bb44-0b2d4e3923d2');\n",
       "var x = new MutationObserver(function (mutations, observer) {{\n",
       "        var display = window.getComputedStyle(gd).display;\n",
       "        if (!display || display === 'none') {{\n",
       "            console.log([gd, 'removed!']);\n",
       "            Plotly.purge(gd);\n",
       "            observer.disconnect();\n",
       "        }}\n",
       "}});\n",
       "\n",
       "// Listen for the removal of the full notebook cells\n",
       "var notebookContainer = gd.closest('#notebook-container');\n",
       "if (notebookContainer) {{\n",
       "    x.observe(notebookContainer, {childList: true});\n",
       "}}\n",
       "\n",
       "// Listen for the clearing of the current output cell\n",
       "var outputEl = gd.closest('.output');\n",
       "if (outputEl) {{\n",
       "    x.observe(outputEl, {childList: true});\n",
       "}}\n",
       "\n",
       "                        })                };                });            </script>        </div>"
      ]
     },
     "metadata": {},
     "output_type": "display_data"
    }
   ],
   "source": [
    "draw_inflation = px.line(Inflation_Data , x='Date' , y =[\"Fruits and vegatables.1\" , \"Regulated Items.1\"] , title=\"\")\n",
    "draw_inflation.update_layout(paper_bgcolor= color_global , plot_bgcolor = color_global, xaxis=dict(showgrid=False),\n",
    "          yaxis=dict(showgrid=False) \n",
    "                  , \n",
    "                  )\n",
    "\n",
    "draw_inflation['data'][0]['line']['color']= \"#ff6347\"\n",
    "draw_inflation['data'][1]['line']['color']= \"#005BBB\"\n",
    "draw_inflation"
   ]
  },
  {
   "cell_type": "code",
   "execution_count": 1751,
   "metadata": {},
   "outputs": [],
   "source": [
    "colors = {\n",
    "    'background': '#e9ecef',\n",
    "    'text': '#7FDBFF'\n",
    "}\n",
    "\n",
    "# inflation_fig = dcc.Graph(\n",
    "#         id=\"Inflation_Data\",\n",
    "#         figure={\n",
    "#             'data': [\n",
    "#                 {'x': [1, 2, 3], 'y': [4, 1, 2], 'type': 'bar', 'name': 'SF'},\n",
    "#                 {'x': [1, 2, 3], 'y': [2, 4, 5], 'type': 'bar', 'name': u'Montréal'},\n",
    "#             ],\n",
    "#             'layout': {\n",
    "#                 'plot_bgcolor': colors['background'],\n",
    "#                 'paper_bgcolor': colors['background'],\n",
    "#                 'font': {\n",
    "#                     'color': colors['text']\n",
    "#                 }\n",
    "#             }\n",
    "#         }\n",
    "#     )\n",
    "\n",
    "\n",
    "inflation_fig =  html.Div(children=[\n",
    "  \n",
    "#         dcc.Dropdown(Inflation_Data.columns, 'Headline CPI', id='Select_Y_axis1' \n",
    "#                      ,style={ 'width': '200px','color': '#212121', 'background-color': '#e9ecef', }),\n",
    "        dcc.Graph(figure = draw_inflation,\n",
    "        id=\"Inflation_Data\",\n",
    "#         figure={\n",
    "#             'layout': {\n",
    "#                 'plot_bgcolor': colors['background'],\n",
    "#                 'paper_bgcolor': colors['background'],\n",
    "#                 'font': {\n",
    "#                     'color': colors['text']\n",
    "#                 },\n",
    "               \n",
    "                \n",
    "#             }\n",
    "            \n",
    "#         }\n",
    "    )\n",
    "        \n",
    "    ] , style = {'backgroundColor': color_global })"
   ]
  },
  {
   "cell_type": "code",
   "execution_count": 1752,
   "metadata": {},
   "outputs": [],
   "source": [
    "loss_df = pd.read_csv(\"Russia-Ukraine Equipment Losses - Origional.csv\")\n",
    "loss_df = loss_df.drop(loss_df.filter(regex='Unnamed').columns, axis=1)\n",
    "url_df = pd.DataFrame({\n",
    "    #'color': ['red','green','blue','pink','purple',\"brown\",'yellow','lightsalmon'],\n",
    "    'color': 'red',\n",
    "    'img_url': [\n",
    "        \"https://upload.wikimedia.org/wikipedia/commons/0/03/Refugee_care_near_Poland_border_train_station_20220228.jpg\",#1\n",
    "        \"https://upload.wikimedia.org/wikipedia/commons/4/45/Ukrainian_refugees_from_2022%2C_crossing_into_Poland.jpg\",#2\n",
    "        \"https://upload.wikimedia.org/wikipedia/commons/b/b2/Warsaw_Central_Station_during_Ukrainian_refugee_crisis_10.jpg\",#3\n",
    "        \"https://media.npr.org/assets/img/2022/03/03/refugees.children.getty-7f16b5a3c923f8deac38a3ec875a217088a21421-s900-c85.webp\",#4 A refugee girl carries a sibling after arriving at the Hungarian border\n",
    "        \"https://static.euronews.com/articles/stories/06/50/67/90/1440x810_cmsv2_e6fc023b-e933-5cab-adb8-746b584ad7df-6506790.jpg\",#5\n",
    "        \"https://global.unitednations.entermediadb.net/assets/mediadb/services/module/asset/downloads/preset/Collections/UNHCR/Embargoed+2/18-03-2022_UNICEF_Ukraine-06.jpg/image1170x530cropped.jpg\",#6\n",
    "        \"https://idsb.tmgrup.com.tr/ly/uploads/images/2022/03/07/188440.jpg\",#7\n",
    "        \"https://foreignpolicy.com/wp-content/uploads/2022/03/1-ukraine-refugee-russia-lviv-kyiv-slinski-lead-6O1A1436.jpg?w=1024&h=682&quality=90\",#8\n",
    "        \"https://s.abcnews.com/images/Health/refugee-family-ukraine-rt-ps-220301_1646153536012_hpMain_16x9_1600.jpg\",#9\n",
    "        \"https://www.unicef.org/sites/default/files/styles/press_release_feature/public/UN0599229.jpg?itok=7YP910M_\",#10\n",
    "        \"https://www.unicef.org/lac/sites/unicef.org.lac/files/styles/hero_mobile/public/UN0599222.jpg?itok=gxryGRtG\",#11\n",
    "        \"https://www.unicef.org/sites/default/files/styles/press_release_feature/public/UN0599229.jpg?itok=7YP910M_\",#12\n",
    "        \"https://i.inews.co.uk/content/uploads/2022/03/SEI_92096113-640x360.jpg\",#13       12-year-old Alexandra sits on a bus holding her sister Esyea, 6, who cries as she waves at her mother Irina, as they leave Odesa in southern Ukraine\n",
    "        \"https://s.abcnews.com/images/Health/refugee-family-ukraine-rt-ps-220301_1646153536012_hpMain_16x9_1600.jpg\",#14\n",
    "        \"https://feeds.abplive.com/onecms/images/uploaded-images/2022/03/15/b74c8da5878b774e2f10c5cc56c34888_original.jpg\",#15\n",
    "        \"https://encrypted-tbn0.gstatic.com/images?q=tbn:ANd9GcQyfZtiVK8lHcmbGJ2B-NFvV3LumAn-BCQh87CdfjkDVKos2cNmrp82mtlTMBH41oBSrTI&usqp=CAU\",#16\n",
    "        \"https://s.yimg.com/ny/api/res/1.2/WllwocvCs8Ys4atysu414A--/YXBwaWQ9aGlnaGxhbmRlcjt3PTY0MA--/https://s.yimg.com/os/creatr-uploaded-images/2022-03/601cc0e3-9b0d-11ec-bb65-12f6cf1eab0d\",#17\n",
    "        \"https://www.politico.com/dims4/default/69bff3c/2147483647/strip/true/crop/5616x3744+0+0/resize/630x420!/quality/90/?url=https%3A%2F%2Fstatic.politico.com%2Fcc%2Fc8%2Ff0e47ed24f01913f9d5f807a8900%2Fpoland-russia-ukraine-war-64536.jpg\",#18 Nearly two-thirds of Ukraine’s children have fled homes\n",
    "        \"https://i.inews.co.uk/content/uploads/2022/03/SEI_92195951.jpg\",#19 11-year-old Ukrainian boy who travelled 700 miles to Slovakia solo to flee the violence\n",
    "        \"https://www.unicef.org/sites/default/files/styles/press_release_feature/public/UN0605554%20%281%29.jpg?itok=m60-zEPv\",#20\n",
    "        \"https://i.guim.co.uk/img/media/a0be4836730cd51c3ab508f9b05c847e641aa199/0_224_6720_4032/master/6720.jpg?width=620&quality=45&auto=format&fit=max&dpr=2&s=02cfc40d1629eb4cbcfb6db8a6d2e7a1\",#21\n",
    "        \"https://i.guim.co.uk/img/media/a5e7f33fb8d54b3a77917d865a431ddeae0a31bf/0_181_6720_4032/master/6720.jpg?width=620&quality=45&auto=format&fit=max&dpr=2&s=1df4e12f3107a186632d0fc7620e6d43\"#,#22\n",
    "#         \"\",#22\n",
    "#         \"\",#23\n",
    "#         \"\",#24\n",
    "#         \"\",#25\n",
    "    ],\n",
    "    'Story': [\n",
    "        'Nan',#1\n",
    "        'Nan',#2\n",
    "        'Nan',#3\n",
    "        'A refugee girl carries a sibling after arriving at the Hungarian border',#4\n",
    "        'Nan',#5\n",
    "        'Nan',#6\n",
    "        'Nan',#7\n",
    "        'Nan',#8\n",
    "        'Nan',#9\n",
    "        'Families board a train at the station in Lviv, Ukraine, heading toward the Polish border on March 3',#10\n",
    "        'Nan',#11\n",
    "        'Nan',#12\n",
    "        'Nan',#13\n",
    "        'Nan',#14\n",
    "        '12-year-old Alexandra sits on a bus holding her sister Esyea, 6, who cries as she waves at her mother Irina, as they leave Odesa in southern Ukraine',#15\n",
    "        'Nan',#16\n",
    "        'Nan',#17\n",
    "        'Nearly two-thirds of Ukraine’s children \\n\\nhave fled homes',#18\n",
    "        '11-year-old Ukrainian boy who travelled 700 miles to Slovakia solo to flee the violence',#19\n",
    "        'Families arrive in Berdyszcze, Poland, after crossing the border from Ukraine.',#20\n",
    "        'Ukrainian children after they crossed the Poland-Ukraine border at Medyka',#21\n",
    "        'A boy holds a soft toy after crossing the border into Poland from Ukraine.'#22\n",
    "    ]\n",
    "    \n",
    "})\n",
    "new_df = pd.concat([loss_df, url_df], axis=1, join='inner')"
   ]
  },
  {
   "cell_type": "code",
   "execution_count": 1753,
   "metadata": {},
   "outputs": [],
   "source": [
    "from jupyter_dash import JupyterDash\n",
    "from dash import Dash, dcc, html, Input, Output, no_update\n",
    "import plotly.graph_objects as go\n",
    "import pandas as pd\n",
    "\n",
    "fig = go.Figure(\n",
    "    go.Scatter(\n",
    "        x=loss_df['Date'].head(22), \n",
    "        y=loss_df['UNHCR Ukraine Refugees'].head(22), \n",
    "        #mode='markers',\n",
    "        #mode = \"lines\",\n",
    "        mode='lines+markers',\n",
    "        #size = loss_df['UNHCR Ukraine Refugees'],\n",
    "        #marker=dict(color=new_df['color'])\n",
    "        marker=dict(color='#005BBB')\n",
    "        #marker=dict(color='red')\n",
    "    )\n",
    ")\n",
    "\n",
    "fig.update_traces(hoverinfo=\"none\", hovertemplate=None)\n",
    "fig.update_layout(\n",
    "    paper_bgcolor= color_global , plot_bgcolor = color_global, xaxis=dict(showgrid=False),\n",
    "          yaxis=dict(showgrid=False),\n",
    "    title={\n",
    "        'text': \"Ukraine Refugees\",\n",
    "        'y':0.9,\n",
    "        'x':0.5,\n",
    "        'xanchor': 'center',\n",
    "        'yanchor': 'top'},\n",
    "    xaxis_title=\"Date\",\n",
    "    yaxis_title=\"Number of Refugees\",\n",
    "    legend_title=\"Ukraine Refugees\",\n",
    "    font=dict(\n",
    "        family=\"Courier New, monospace\",\n",
    "        size=18,\n",
    "        color=\"#005BBB\"\n",
    "    )\n",
    ")\n",
    "\n",
    "# app = JupyterDash(_name_)\n",
    "\n",
    "# server = app.server\n",
    "# app = Dash()\n",
    "\n",
    "Ukraine_refugees = html.Div([\n",
    "    dcc.Graph(id=\"graph-basic-2\", figure=fig, clear_on_unhover=True),\n",
    "    dcc.Tooltip(id=\"graph-tooltip\", direction='bottom'),\n",
    "])\n",
    "\n",
    "\n",
    "@app.callback(\n",
    "    Output(\"graph-tooltip\", \"show\"),\n",
    "    Output(\"graph-tooltip\", \"bbox\"),\n",
    "    Output(\"graph-tooltip\", \"children\"),\n",
    "    Output(\"graph-tooltip\", \"direction\"),\n",
    "    \n",
    "    Input(\"graph-basic-2\", \"hoverData\"),\n",
    ")\n",
    "def display_hover(hoverData):\n",
    "    if hoverData is None:\n",
    "        return False, no_update, no_update ,no_update\n",
    "\n",
    "    # demo only shows the first point, but other points may also be available\n",
    "    pt = hoverData[\"points\"][0]\n",
    "    bbox = pt[\"bbox\"]\n",
    "    num = pt[\"pointNumber\"]\n",
    "    \n",
    "    \n",
    "    \n",
    "    df_row = new_df.iloc[num]\n",
    "    img_src = df_row['img_url']\n",
    "    \n",
    "    children = [\n",
    "\n",
    "        html.Img(\n",
    "            src=img_src,\n",
    "            style={\"width\": \"250px\"},\n",
    "        ),\n",
    "        html.P(df_row['Story'],\n",
    "              )\n",
    "#         ,style = {\n",
    "#                    \"width\":\"200px\",\n",
    "#                    \"height\":\"200px\"    \n",
    "#         }\n",
    "    ]\n",
    "    \n",
    "    y = hoverData[\"points\"][0]['y']\n",
    "    direction = \"bottom\" if y > 2 else \"top\"\n",
    "    \n",
    "    return True, bbox, children , direction\n",
    "\n",
    "# app.run_server()\n",
    "\n",
    "# app.run_server()"
   ]
  },
  {
   "cell_type": "code",
   "execution_count": 1754,
   "metadata": {},
   "outputs": [],
   "source": [
    "# first_card = html.Div([\n",
    "#             html.H6(children='People Loss',\n",
    "#                     style={\n",
    "#                         'textAlign': 'center',\n",
    "#                         'color': 'white'}\n",
    "#                     ),\n",
    " \n",
    "#             html.P(UR_Data[\"UNHCR Ukraine Refugees\"].iloc[-1],\n",
    "#                    style={\n",
    "#                        'textAlign': 'center',\n",
    "#                        'color': 'orange',\n",
    "#                        'fontSize': 20}\n",
    "#                    ),\n",
    "\n",
    "# #             html.P('new:  ' + f\"{covid_data_1['confirmed'].iloc[-1] - covid_data_1['confirmed'].iloc[-2]:,.0f} \"\n",
    "# #                    + ' (' + str(round(((covid_data_1['confirmed'].iloc[-1] - covid_data_1['confirmed'].iloc[-2]) /\n",
    "# #                                        covid_data_1['confirmed'].iloc[-1]) * 100, 2)) + '%)',\n",
    "# #                    style={\n",
    "# #                        'textAlign': 'center',\n",
    "# #                        'color': 'orange',\n",
    "# #                        'fontSize': 15,\n",
    "# #                        'margin-top': '-18px'}\n",
    "# #                    )\n",
    "# ], className=\"card_container three columns\",\n",
    "#         style={\n",
    "#                        'backgroundColor': \"#005BBB\",\n",
    "# }),"
   ]
  },
  {
   "cell_type": "code",
   "execution_count": 1755,
   "metadata": {},
   "outputs": [],
   "source": [
    "color_global =  \"#fbfcfc\" \n",
    "# \"#ffffff\"  '#e9ecef'  \"#60A3D9\" "
   ]
  },
  {
   "cell_type": "code",
   "execution_count": 1756,
   "metadata": {},
   "outputs": [],
   "source": [
    "card_icon = {\n",
    "    \"color\": \"white\",\n",
    "    \"textAlign\": \"center\",\n",
    "    \"fontSize\": 30,\n",
    "    \"margin\": \"auto\",\n",
    "}\n",
    "\n",
    "card1 = dbc.CardGroup(\n",
    "    [\n",
    "        dbc.Card(\n",
    "            dbc.CardBody(\n",
    "                [\n",
    "                    html.H6(\"Human Losses\", className=\"card-title\" , style = {\"text-align\" : \"center\"}),\n",
    "                    html.H1(\"14,000\", className=\"card-title\" , style = {\"text-align\" : \"center\"}),\n",
    "#                     html.P(\"People Loss of 🇺🇦 VS 🇷🇺\", className=\"card-text\",),\n",
    "                ]\n",
    "            )\n",
    "        ),\n",
    "        dbc.Card([           \n",
    "            html.H1(\" \" , style = {\"text-align\" : \"center\"}),\n",
    "            html.H1(\" \" , style = {\"text-align\" : \"center\"}),\n",
    "            html.H1(\" \" , style = {\"text-align\" : \"center\"}),\n",
    "            html.H1(\"🩸\" , style = {\"text-align\" : \"center\"}),\n",
    "#             html.Div(className=\"fa-regular fa-user❤😍\", style=card_icon),\n",
    "            \n",
    "                 ],\n",
    "        className=\"bg-primary\",\n",
    "            style={\"maxWidth\": 75},),\n",
    "    ],\n",
    "    className=\"mt-4 shadow\",\n",
    ")"
   ]
  },
  {
   "cell_type": "code",
   "execution_count": 1757,
   "metadata": {},
   "outputs": [],
   "source": [
    "card2 = dbc.CardGroup(\n",
    "    [\n",
    "        dbc.Card(\n",
    "            dbc.CardBody(\n",
    "                [\n",
    "                    html.H6(\"Oil Barrel Price\", className=\"card-title\" , style = {\"text-align\" : \"center\"}),\n",
    "                    html.H1(\"107$\", className=\"card-title\" , style = {\"text-align\" : \"center\"}),\n",
    "#                     html.P(\"People Loss of 🇺🇦 VS 🇷🇺\", className=\"card-text\",),\n",
    "                ]\n",
    "            )\n",
    "        ),\n",
    "        dbc.Card([           \n",
    "            html.H1(\" \" , style = {\"text-align\" : \"center\"}),\n",
    "            html.H1(\" \" , style = {\"text-align\" : \"center\"}),\n",
    "            html.H1(\" \" , style = {\"text-align\" : \"center\"}),\n",
    "            html.H1(\"🛢️\" , style = {\"text-align\" : \"center\"}),\n",
    "#             html.Div(className=\"fa-regular fa-user❤😍\", style=card_icon),\n",
    "            \n",
    "                 ],\n",
    "        className=\"bg-primary\",\n",
    "            style={\"maxWidth\": 75},),\n",
    "    ],\n",
    "    className=\"mt-4 shadow\",\n",
    ")"
   ]
  },
  {
   "cell_type": "code",
   "execution_count": 1758,
   "metadata": {},
   "outputs": [],
   "source": [
    "card3 = dbc.CardGroup(\n",
    "    [\n",
    "        dbc.Card(\n",
    "            dbc.CardBody(\n",
    "                [\n",
    "                    html.H6(\"Inflation\", className=\"card-title\" , style = {\"text-align\" : \"center\"}),\n",
    "                    html.H1(\"8.8%\", className=\"card-title\" , style = {\"text-align\" : \"center\"}),\n",
    "#                     html.P(\"People Loss of 🇺🇦 VS 🇷🇺\", className=\"card-text\",),\n",
    "                ]\n",
    "            )\n",
    "        ),\n",
    "        dbc.Card([           \n",
    "            html.H1(\" \" , style = {\"text-align\" : \"center\"}),\n",
    "            html.H1(\" \" , style = {\"text-align\" : \"center\"}),\n",
    "            html.H1(\" \" , style = {\"text-align\" : \"center\"}),\n",
    "            html.H1(\"🍅\" , style = {\"text-align\" : \"center\"}),\n",
    "\n",
    "#             html.H1(\"📈\" , style = {\"text-align\" : \"center\"}),\n",
    "#             html.Div(className=\"fa-regular fa-user❤😍\", style=card_icon),\n",
    "            \n",
    "                 ],\n",
    "        className=\"bg-primary\",\n",
    "            style={\"maxWidth\": 75},),\n",
    "    ],\n",
    "    className=\"mt-4 shadow\",\n",
    ")"
   ]
  },
  {
   "cell_type": "code",
   "execution_count": 1759,
   "metadata": {},
   "outputs": [],
   "source": [
    "card4 = dbc.CardGroup(\n",
    "    [\n",
    "        dbc.Card(\n",
    "            dbc.CardBody(\n",
    "                [\n",
    "                    html.H6(\"Refugees\", className=\"card-title\" , style = {\"text-align\" : \"center\"}),\n",
    "                    html.H1(\"4,278,789\", className=\"card-title\" , style = {\"text-align\" : \"center\"}),\n",
    "#                     html.P(\"People Loss of 🇺🇦 VS 🇷🇺\", className=\"card-text\",),\n",
    "                ]\n",
    "            )\n",
    "        ),\n",
    "        dbc.Card([           \n",
    "            html.H1(\" \" , style = {\"text-align\" : \"center\"}),\n",
    "            html.H1(\" \" , style = {\"text-align\" : \"center\"}),\n",
    "            html.H1(\" \" , style = {\"text-align\" : \"center\"}),\n",
    "            html.H1(\"🏠\" , style = {\"text-align\" : \"center\"}),\n",
    "\n",
    "#             html.H1(\"📈\" , style = {\"text-align\" : \"center\"}),\n",
    "#             html.Div(className=\"fa-regular fa-user❤😍\", style=card_icon),\n",
    "            \n",
    "                 ],\n",
    "        className=\"bg-primary\",\n",
    "            style={\"maxWidth\": 75},),\n",
    "    ],\n",
    "    className=\"mt-4 shadow\",\n",
    ")"
   ]
  },
  {
   "cell_type": "code",
   "execution_count": 1760,
   "metadata": {},
   "outputs": [],
   "source": [
    "app.layout = html.Div(html.Div(children=[\n",
    "   \n",
    "    \n",
    "    dbc.Row(\n",
    "       [ html.H1(\n",
    "           \n",
    "           html.\n",
    "           \"Ukraine Invasion\", className=\"card-title\" , style = {\"text-align\" : \"center\"})],\n",
    "         className=\"py-4\",  \n",
    "        ),\n",
    "    dbc.Row(\n",
    "            [\n",
    "                \n",
    "                dbc.Col(card1),\n",
    "                dbc.Col(card2),\n",
    "                dbc.Col(card3),\n",
    "                dbc.Col(card4),\n",
    "   \n",
    "            ] , className=\"py-4\",  \n",
    "        ),\n",
    "    \n",
    "    \n",
    "\n",
    "    \n",
    "    dbc.Row([\n",
    "        \n",
    "        dbc.Col(dcc.Graph(id = \"Random_graph1\" ,\n",
    "#                           figure = fig_map\n",
    "                         )),\n",
    "           \n",
    "     \n",
    "    ] , className=\"py-4\",),\n",
    "    \n",
    "    \n",
    "    \n",
    "    dbc.Row([\n",
    "        \n",
    "        \n",
    "\n",
    "        \n",
    "    dbc.Col(html.Div(children=[\n",
    "#     dcc.Dropdown(UR_Data.columns, 'Date', id='Select_Y_axis' \n",
    "#                  ,style={ 'width': '200px','color': '#212121', 'background-color': '#e9ecef', }),\n",
    "    dcc.Graph(id = \"UR_Graph\" ,  figure = draw),\n",
    "      \n",
    "        ]), lg=7),  \n",
    "    \n",
    "    \n",
    "    dbc.Col(inflation_fig,\n",
    "    style = {\"width\" : 350 , \"height\" : 350  } ,\n",
    "    ),        \n",
    "        \n",
    "\n",
    "        \n",
    "#     dbc.Col(fourth_graph, lg=5),   \n",
    "    ], className=\"py-4\",\n",
    "    \n",
    "    style = {'backgroundColor':color_global }),\n",
    "    \n",
    "    dbc.Row([\n",
    "        \n",
    "        dbc.Col(Ukraine_refugees),\n",
    "           \n",
    "     \n",
    "    ] , className=\"py-4\",),\n",
    "    \n",
    "    \n",
    "\n",
    "    \n",
    "    \n",
    "    \n",
    "] , className=\"py-2 container\",)  \n",
    "                      \n",
    "                      \n",
    "                      \n",
    "                      , style = {'backgroundColor':color_global })\n",
    "# '#e9ecef'"
   ]
  },
  {
   "cell_type": "code",
   "execution_count": 1761,
   "metadata": {},
   "outputs": [],
   "source": [
    "# @app.callback(\n",
    "#     Output('UR_Graph', 'figure'),\n",
    "# #     Input('Select_Y_axis', 'value'),\n",
    "# #     Input('Plot_Graph' , 'n_clicks')\n",
    "# )\n",
    "# def update_output_new():\n",
    "# #     Updated_graph = UR_Data[[\"Date\" , \"Russia_Total\"]]\n",
    "#     draw = px.line(UR_Data , x='Date' , y = [\"Ukraine_Total\" ,\"Russia_Total\"] )\n",
    "# #     draw.update_layout(paper_bgcolor=\"#e9ecef\" , plot_bgcolor = \"#e9ecef\", xaxis=dict(showgrid=False),\n",
    "# #               yaxis=dict(showgrid=False))\n",
    "\n",
    "#     return draw"
   ]
  },
  {
   "cell_type": "code",
   "execution_count": 1762,
   "metadata": {},
   "outputs": [],
   "source": [
    "# @app.callback(\n",
    "#     Output('Inflation_Data', 'figure'),\n",
    "# #     Input('Select_Y_axis1', 'value'),\n",
    "# #     Input('Plot_Graph' , 'n_clicks')\n",
    "# )\n",
    "# def update_output():\n",
    "# #     Updated_graph = UR_Data[[\"Date\" , \"Russia_Total\"]]\n",
    "#     draw = px.line(Inflation_Data , x='Date' , y =[\"Ukraine_Total\" , \"Russia_Total\"] )\n",
    "#     draw.update_layout(paper_bgcolor=\"#e9ecef\" , plot_bgcolor = \"#e9ecef\", xaxis=dict(showgrid=False),\n",
    "#               yaxis=dict(showgrid=False))\n",
    "\n",
    "#     return draw"
   ]
  },
  {
   "cell_type": "code",
   "execution_count": 1763,
   "metadata": {},
   "outputs": [],
   "source": [
    "# !pip3 install geojson"
   ]
  },
  {
   "cell_type": "code",
   "execution_count": 1764,
   "metadata": {},
   "outputs": [],
   "source": [
    "# pip uninstall geopandas fiona pyproj rtree shapely"
   ]
  },
  {
   "cell_type": "code",
   "execution_count": 1765,
   "metadata": {},
   "outputs": [],
   "source": [
    "# conda install --channel conda-forge geopandas"
   ]
  },
  {
   "cell_type": "code",
   "execution_count": 1766,
   "metadata": {},
   "outputs": [
    {
     "name": "stdout",
     "output_type": "stream",
     "text": [
      "Dash is running on http://127.0.0.1:8050/\n",
      "\n",
      "Dash is running on http://127.0.0.1:8050/\n",
      "\n",
      "Dash is running on http://127.0.0.1:8050/\n",
      "\n",
      "Dash is running on http://127.0.0.1:8050/\n",
      "\n",
      "Dash is running on http://127.0.0.1:8050/\n",
      "\n",
      "Dash is running on http://127.0.0.1:8050/\n",
      "\n",
      "Dash is running on http://127.0.0.1:8050/\n",
      "\n",
      "Dash is running on http://127.0.0.1:8050/\n",
      "\n",
      "Dash is running on http://127.0.0.1:8050/\n",
      "\n",
      "Dash is running on http://127.0.0.1:8050/\n",
      "\n",
      "Dash is running on http://127.0.0.1:8050/\n",
      "\n",
      "Dash is running on http://127.0.0.1:8050/\n",
      "\n",
      "Dash is running on http://127.0.0.1:8050/\n",
      "\n",
      "Dash is running on http://127.0.0.1:8050/\n",
      "\n",
      "Dash is running on http://127.0.0.1:8050/\n",
      "\n",
      "Dash is running on http://127.0.0.1:8050/\n",
      "\n",
      "Dash is running on http://127.0.0.1:8050/\n",
      "\n",
      "Dash is running on http://127.0.0.1:8050/\n",
      "\n",
      "Dash is running on http://127.0.0.1:8050/\n",
      "\n",
      "Dash is running on http://127.0.0.1:8050/\n",
      "\n",
      "Dash is running on http://127.0.0.1:8050/\n",
      "\n",
      "Dash is running on http://127.0.0.1:8050/\n",
      "\n",
      "Dash is running on http://127.0.0.1:8050/\n",
      "\n",
      "Dash is running on http://127.0.0.1:8050/\n",
      "\n",
      "Dash is running on http://127.0.0.1:8050/\n",
      "\n",
      "Dash is running on http://127.0.0.1:8050/\n",
      "\n",
      "Dash is running on http://127.0.0.1:8050/\n",
      "\n",
      "Dash is running on http://127.0.0.1:8050/\n",
      "\n",
      "Dash is running on http://127.0.0.1:8050/\n",
      "\n",
      "Dash is running on http://127.0.0.1:8050/\n",
      "\n",
      "Dash is running on http://127.0.0.1:8050/\n",
      "\n",
      "Dash is running on http://127.0.0.1:8050/\n",
      "\n",
      "Dash is running on http://127.0.0.1:8050/\n",
      "\n",
      "Dash is running on http://127.0.0.1:8050/\n",
      "\n",
      "Dash is running on http://127.0.0.1:8050/\n",
      "\n",
      "Dash is running on http://127.0.0.1:8050/\n",
      "\n",
      "Dash is running on http://127.0.0.1:8050/\n",
      "\n",
      "Dash is running on http://127.0.0.1:8050/\n",
      "\n",
      "Dash is running on http://127.0.0.1:8050/\n",
      "\n",
      "Dash is running on http://127.0.0.1:8050/\n",
      "\n",
      "Dash is running on http://127.0.0.1:8050/\n",
      "\n",
      "Dash is running on http://127.0.0.1:8050/\n",
      "\n",
      "Dash is running on http://127.0.0.1:8050/\n",
      "\n",
      "Dash is running on http://127.0.0.1:8050/\n",
      "\n",
      "Dash is running on http://127.0.0.1:8050/\n",
      "\n",
      "Dash is running on http://127.0.0.1:8050/\n",
      "\n",
      "Dash is running on http://127.0.0.1:8050/\n",
      "\n",
      "Dash is running on http://127.0.0.1:8050/\n",
      "\n",
      "Dash is running on http://127.0.0.1:8050/\n",
      "\n",
      "Dash is running on http://127.0.0.1:8050/\n",
      "\n",
      "Dash is running on http://127.0.0.1:8050/\n",
      "\n",
      "Dash is running on http://127.0.0.1:8050/\n",
      "\n",
      "Dash is running on http://127.0.0.1:8050/\n",
      "\n",
      "Dash is running on http://127.0.0.1:8050/\n",
      "\n",
      "Dash is running on http://127.0.0.1:8050/\n",
      "\n",
      "Dash is running on http://127.0.0.1:8050/\n",
      "\n",
      "Dash is running on http://127.0.0.1:8050/\n",
      "\n",
      "Dash is running on http://127.0.0.1:8050/\n",
      "\n",
      "Dash is running on http://127.0.0.1:8050/\n",
      "\n",
      "Dash is running on http://127.0.0.1:8050/\n",
      "\n",
      " * Serving Flask app \"__main__\" (lazy loading)\n",
      " * Environment: production\n",
      "   WARNING: This is a development server. Do not use it in a production deployment.\n",
      "   Use a production WSGI server instead.\n",
      " * Debug mode: off\n"
     ]
    },
    {
     "name": "stderr",
     "output_type": "stream",
     "text": [
      " * Running on http://127.0.0.1:8050/ (Press CTRL+C to quit)\n",
      "127.0.0.1 - - [01/May/2022 02:23:21] \"\u001b[37mGET / HTTP/1.1\u001b[0m\" 200 -\n",
      "127.0.0.1 - - [01/May/2022 02:23:21] \"\u001b[37mGET /_dash-component-suites/dash/deps/polyfill@7.v2_3_0m1648035509.12.1.min.js HTTP/1.1\u001b[0m\" 200 -\n",
      "127.0.0.1 - - [01/May/2022 02:23:21] \"\u001b[37mGET /_dash-component-suites/dash/html/dash_html_components.v2_0_2m1648035509.min.js HTTP/1.1\u001b[0m\" 200 -\n",
      "127.0.0.1 - - [01/May/2022 02:23:21] \"\u001b[37mGET /_dash-component-suites/dash/deps/react@16.v2_3_0m1648035509.14.0.min.js HTTP/1.1\u001b[0m\" 200 -\n",
      "127.0.0.1 - - [01/May/2022 02:23:21] \"\u001b[37mGET /_dash-component-suites/dash_bootstrap_components/_components/dash_bootstrap_components.v1_1_0m1650537342.min.js HTTP/1.1\u001b[0m\" 200 -\n",
      "127.0.0.1 - - [01/May/2022 02:23:21] \"\u001b[37mGET /_dash-component-suites/dash/deps/react-dom@16.v2_3_0m1648035509.14.0.min.js HTTP/1.1\u001b[0m\" 200 -\n",
      "127.0.0.1 - - [01/May/2022 02:23:21] \"\u001b[37mGET /_dash-component-suites/dash/deps/prop-types@15.v2_3_0m1648035509.7.2.min.js HTTP/1.1\u001b[0m\" 200 -\n",
      "127.0.0.1 - - [01/May/2022 02:23:21] \"\u001b[37mGET /_dash-component-suites/dash/dash-renderer/build/dash_renderer.v2_3_0m1648035509.min.js HTTP/1.1\u001b[0m\" 200 -\n",
      "127.0.0.1 - - [01/May/2022 02:23:21] \"\u001b[37mGET /_dash-component-suites/dash/dash_table/bundle.v5_1_1m1648035509.js HTTP/1.1\u001b[0m\" 200 -\n",
      "127.0.0.1 - - [01/May/2022 02:23:21] \"\u001b[37mGET /_dash-component-suites/dash/dcc/dash_core_components.v2_3_0m1648035509.js HTTP/1.1\u001b[0m\" 200 -\n",
      "127.0.0.1 - - [01/May/2022 02:23:21] \"\u001b[37mGET /_dash-component-suites/dash/dcc/dash_core_components-shared.v2_3_0m1648035509.js HTTP/1.1\u001b[0m\" 200 -\n",
      "127.0.0.1 - - [01/May/2022 02:23:21] \"\u001b[37mGET /_dash-layout HTTP/1.1\u001b[0m\" 200 -\n",
      "127.0.0.1 - - [01/May/2022 02:23:21] \"\u001b[37mGET /_dash-dependencies HTTP/1.1\u001b[0m\" 200 -\n",
      "127.0.0.1 - - [01/May/2022 02:23:21] \"\u001b[36mGET /_dash-component-suites/dash/dcc/async-graph.js HTTP/1.1\u001b[0m\" 304 -\n",
      "127.0.0.1 - - [01/May/2022 02:23:21] \"\u001b[36mGET /_dash-component-suites/dash/dcc/async-plotlyjs.js HTTP/1.1\u001b[0m\" 304 -\n",
      "127.0.0.1 - - [01/May/2022 02:23:22] \"\u001b[37mPOST /_dash-update-component HTTP/1.1\u001b[0m\" 200 -\n"
     ]
    }
   ],
   "source": [
    "app.run_server()"
   ]
  },
  {
   "cell_type": "code",
   "execution_count": null,
   "metadata": {},
   "outputs": [],
   "source": []
  },
  {
   "cell_type": "code",
   "execution_count": null,
   "metadata": {},
   "outputs": [],
   "source": []
  },
  {
   "cell_type": "code",
   "execution_count": null,
   "metadata": {},
   "outputs": [],
   "source": []
  }
 ],
 "metadata": {
  "kernelspec": {
   "display_name": "Python 3",
   "language": "python",
   "name": "python3"
  },
  "language_info": {
   "codemirror_mode": {
    "name": "ipython",
    "version": 3
   },
   "file_extension": ".py",
   "mimetype": "text/x-python",
   "name": "python",
   "nbconvert_exporter": "python",
   "pygments_lexer": "ipython3",
   "version": "3.8.5"
  }
 },
 "nbformat": 4,
 "nbformat_minor": 4
}
